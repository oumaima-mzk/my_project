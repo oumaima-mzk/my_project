{
  "cells": [
    {
      "cell_type": "code",
      "source": [
        "!pip install numpy opencv-python matplotlib pillow\n"
      ],
      "metadata": {
        "id": "5qiGbONe0rwG",
        "outputId": "52eb9f80-38e3-454c-cc3b-9a035d035090",
        "colab": {
          "base_uri": "https://localhost:8080/"
        }
      },
      "id": "5qiGbONe0rwG",
      "execution_count": 1,
      "outputs": [
        {
          "output_type": "stream",
          "name": "stdout",
          "text": [
            "Requirement already satisfied: numpy in /usr/local/lib/python3.11/dist-packages (1.26.4)\n",
            "Requirement already satisfied: opencv-python in /usr/local/lib/python3.11/dist-packages (4.10.0.84)\n",
            "Requirement already satisfied: matplotlib in /usr/local/lib/python3.11/dist-packages (3.10.0)\n",
            "Requirement already satisfied: pillow in /usr/local/lib/python3.11/dist-packages (11.1.0)\n",
            "Requirement already satisfied: contourpy>=1.0.1 in /usr/local/lib/python3.11/dist-packages (from matplotlib) (1.3.1)\n",
            "Requirement already satisfied: cycler>=0.10 in /usr/local/lib/python3.11/dist-packages (from matplotlib) (0.12.1)\n",
            "Requirement already satisfied: fonttools>=4.22.0 in /usr/local/lib/python3.11/dist-packages (from matplotlib) (4.55.7)\n",
            "Requirement already satisfied: kiwisolver>=1.3.1 in /usr/local/lib/python3.11/dist-packages (from matplotlib) (1.4.8)\n",
            "Requirement already satisfied: packaging>=20.0 in /usr/local/lib/python3.11/dist-packages (from matplotlib) (24.2)\n",
            "Requirement already satisfied: pyparsing>=2.3.1 in /usr/local/lib/python3.11/dist-packages (from matplotlib) (3.2.1)\n",
            "Requirement already satisfied: python-dateutil>=2.7 in /usr/local/lib/python3.11/dist-packages (from matplotlib) (2.8.2)\n",
            "Requirement already satisfied: six>=1.5 in /usr/local/lib/python3.11/dist-packages (from python-dateutil>=2.7->matplotlib) (1.17.0)\n"
          ]
        }
      ]
    },
    {
      "cell_type": "code",
      "source": [
        "!pip install tensorflow keras\n"
      ],
      "metadata": {
        "id": "XqK-7QNO01TF",
        "outputId": "93d9d283-d584-4902-dafa-d53fbb85519c",
        "colab": {
          "base_uri": "https://localhost:8080/"
        }
      },
      "id": "XqK-7QNO01TF",
      "execution_count": 2,
      "outputs": [
        {
          "output_type": "stream",
          "name": "stdout",
          "text": [
            "Requirement already satisfied: tensorflow in /usr/local/lib/python3.11/dist-packages (2.18.0)\n",
            "Requirement already satisfied: keras in /usr/local/lib/python3.11/dist-packages (3.8.0)\n",
            "Requirement already satisfied: absl-py>=1.0.0 in /usr/local/lib/python3.11/dist-packages (from tensorflow) (1.4.0)\n",
            "Requirement already satisfied: astunparse>=1.6.0 in /usr/local/lib/python3.11/dist-packages (from tensorflow) (1.6.3)\n",
            "Requirement already satisfied: flatbuffers>=24.3.25 in /usr/local/lib/python3.11/dist-packages (from tensorflow) (25.1.24)\n",
            "Requirement already satisfied: gast!=0.5.0,!=0.5.1,!=0.5.2,>=0.2.1 in /usr/local/lib/python3.11/dist-packages (from tensorflow) (0.6.0)\n",
            "Requirement already satisfied: google-pasta>=0.1.1 in /usr/local/lib/python3.11/dist-packages (from tensorflow) (0.2.0)\n",
            "Requirement already satisfied: libclang>=13.0.0 in /usr/local/lib/python3.11/dist-packages (from tensorflow) (18.1.1)\n",
            "Requirement already satisfied: opt-einsum>=2.3.2 in /usr/local/lib/python3.11/dist-packages (from tensorflow) (3.4.0)\n",
            "Requirement already satisfied: packaging in /usr/local/lib/python3.11/dist-packages (from tensorflow) (24.2)\n",
            "Requirement already satisfied: protobuf!=4.21.0,!=4.21.1,!=4.21.2,!=4.21.3,!=4.21.4,!=4.21.5,<6.0.0dev,>=3.20.3 in /usr/local/lib/python3.11/dist-packages (from tensorflow) (4.25.6)\n",
            "Requirement already satisfied: requests<3,>=2.21.0 in /usr/local/lib/python3.11/dist-packages (from tensorflow) (2.32.3)\n",
            "Requirement already satisfied: setuptools in /usr/local/lib/python3.11/dist-packages (from tensorflow) (75.1.0)\n",
            "Requirement already satisfied: six>=1.12.0 in /usr/local/lib/python3.11/dist-packages (from tensorflow) (1.17.0)\n",
            "Requirement already satisfied: termcolor>=1.1.0 in /usr/local/lib/python3.11/dist-packages (from tensorflow) (2.5.0)\n",
            "Requirement already satisfied: typing-extensions>=3.6.6 in /usr/local/lib/python3.11/dist-packages (from tensorflow) (4.12.2)\n",
            "Requirement already satisfied: wrapt>=1.11.0 in /usr/local/lib/python3.11/dist-packages (from tensorflow) (1.17.2)\n",
            "Requirement already satisfied: grpcio<2.0,>=1.24.3 in /usr/local/lib/python3.11/dist-packages (from tensorflow) (1.70.0)\n",
            "Requirement already satisfied: tensorboard<2.19,>=2.18 in /usr/local/lib/python3.11/dist-packages (from tensorflow) (2.18.0)\n",
            "Requirement already satisfied: numpy<2.1.0,>=1.26.0 in /usr/local/lib/python3.11/dist-packages (from tensorflow) (1.26.4)\n",
            "Requirement already satisfied: h5py>=3.11.0 in /usr/local/lib/python3.11/dist-packages (from tensorflow) (3.12.1)\n",
            "Requirement already satisfied: ml-dtypes<0.5.0,>=0.4.0 in /usr/local/lib/python3.11/dist-packages (from tensorflow) (0.4.1)\n",
            "Requirement already satisfied: tensorflow-io-gcs-filesystem>=0.23.1 in /usr/local/lib/python3.11/dist-packages (from tensorflow) (0.37.1)\n",
            "Requirement already satisfied: rich in /usr/local/lib/python3.11/dist-packages (from keras) (13.9.4)\n",
            "Requirement already satisfied: namex in /usr/local/lib/python3.11/dist-packages (from keras) (0.0.8)\n",
            "Requirement already satisfied: optree in /usr/local/lib/python3.11/dist-packages (from keras) (0.14.0)\n",
            "Requirement already satisfied: wheel<1.0,>=0.23.0 in /usr/local/lib/python3.11/dist-packages (from astunparse>=1.6.0->tensorflow) (0.45.1)\n",
            "Requirement already satisfied: charset-normalizer<4,>=2 in /usr/local/lib/python3.11/dist-packages (from requests<3,>=2.21.0->tensorflow) (3.4.1)\n",
            "Requirement already satisfied: idna<4,>=2.5 in /usr/local/lib/python3.11/dist-packages (from requests<3,>=2.21.0->tensorflow) (3.10)\n",
            "Requirement already satisfied: urllib3<3,>=1.21.1 in /usr/local/lib/python3.11/dist-packages (from requests<3,>=2.21.0->tensorflow) (2.3.0)\n",
            "Requirement already satisfied: certifi>=2017.4.17 in /usr/local/lib/python3.11/dist-packages (from requests<3,>=2.21.0->tensorflow) (2024.12.14)\n",
            "Requirement already satisfied: markdown>=2.6.8 in /usr/local/lib/python3.11/dist-packages (from tensorboard<2.19,>=2.18->tensorflow) (3.7)\n",
            "Requirement already satisfied: tensorboard-data-server<0.8.0,>=0.7.0 in /usr/local/lib/python3.11/dist-packages (from tensorboard<2.19,>=2.18->tensorflow) (0.7.2)\n",
            "Requirement already satisfied: werkzeug>=1.0.1 in /usr/local/lib/python3.11/dist-packages (from tensorboard<2.19,>=2.18->tensorflow) (3.1.3)\n",
            "Requirement already satisfied: markdown-it-py>=2.2.0 in /usr/local/lib/python3.11/dist-packages (from rich->keras) (3.0.0)\n",
            "Requirement already satisfied: pygments<3.0.0,>=2.13.0 in /usr/local/lib/python3.11/dist-packages (from rich->keras) (2.18.0)\n",
            "Requirement already satisfied: mdurl~=0.1 in /usr/local/lib/python3.11/dist-packages (from markdown-it-py>=2.2.0->rich->keras) (0.1.2)\n",
            "Requirement already satisfied: MarkupSafe>=2.1.1 in /usr/local/lib/python3.11/dist-packages (from werkzeug>=1.0.1->tensorboard<2.19,>=2.18->tensorflow) (3.0.2)\n"
          ]
        }
      ]
    },
    {
      "cell_type": "code",
      "source": [
        "!pip install -U efficientnet\n",
        "import efficientnet.tfkeras as efn\n"
      ],
      "metadata": {
        "id": "rtyxu1A71NsE",
        "outputId": "9524f76b-2c9c-45ce-dafe-d567cdeda6f9",
        "colab": {
          "base_uri": "https://localhost:8080/"
        }
      },
      "id": "rtyxu1A71NsE",
      "execution_count": 3,
      "outputs": [
        {
          "output_type": "stream",
          "name": "stdout",
          "text": [
            "Collecting efficientnet\n",
            "  Downloading efficientnet-1.1.1-py3-none-any.whl.metadata (6.4 kB)\n",
            "Collecting keras-applications<=1.0.8,>=1.0.7 (from efficientnet)\n",
            "  Downloading Keras_Applications-1.0.8-py3-none-any.whl.metadata (1.7 kB)\n",
            "Requirement already satisfied: scikit-image in /usr/local/lib/python3.11/dist-packages (from efficientnet) (0.25.1)\n",
            "Requirement already satisfied: numpy>=1.9.1 in /usr/local/lib/python3.11/dist-packages (from keras-applications<=1.0.8,>=1.0.7->efficientnet) (1.26.4)\n",
            "Requirement already satisfied: h5py in /usr/local/lib/python3.11/dist-packages (from keras-applications<=1.0.8,>=1.0.7->efficientnet) (3.12.1)\n",
            "Requirement already satisfied: scipy>=1.11.2 in /usr/local/lib/python3.11/dist-packages (from scikit-image->efficientnet) (1.13.1)\n",
            "Requirement already satisfied: networkx>=3.0 in /usr/local/lib/python3.11/dist-packages (from scikit-image->efficientnet) (3.4.2)\n",
            "Requirement already satisfied: pillow>=10.1 in /usr/local/lib/python3.11/dist-packages (from scikit-image->efficientnet) (11.1.0)\n",
            "Requirement already satisfied: imageio!=2.35.0,>=2.33 in /usr/local/lib/python3.11/dist-packages (from scikit-image->efficientnet) (2.36.1)\n",
            "Requirement already satisfied: tifffile>=2022.8.12 in /usr/local/lib/python3.11/dist-packages (from scikit-image->efficientnet) (2025.1.10)\n",
            "Requirement already satisfied: packaging>=21 in /usr/local/lib/python3.11/dist-packages (from scikit-image->efficientnet) (24.2)\n",
            "Requirement already satisfied: lazy-loader>=0.4 in /usr/local/lib/python3.11/dist-packages (from scikit-image->efficientnet) (0.4)\n",
            "Downloading efficientnet-1.1.1-py3-none-any.whl (18 kB)\n",
            "Downloading Keras_Applications-1.0.8-py3-none-any.whl (50 kB)\n",
            "\u001b[2K   \u001b[90m━━━━━━━━━━━━━━━━━━━━━━━━━━━━━━━━━━━━━━━━\u001b[0m \u001b[32m50.7/50.7 kB\u001b[0m \u001b[31m2.3 MB/s\u001b[0m eta \u001b[36m0:00:00\u001b[0m\n",
            "\u001b[?25hInstalling collected packages: keras-applications, efficientnet\n",
            "Successfully installed efficientnet-1.1.1 keras-applications-1.0.8\n"
          ]
        }
      ]
    },
    {
      "cell_type": "code",
      "source": [
        "!pip install scikit-image\n"
      ],
      "metadata": {
        "id": "L4pOmaWW1Tfi",
        "outputId": "88245238-7744-4859-f5fc-27358f10dc1e",
        "colab": {
          "base_uri": "https://localhost:8080/"
        }
      },
      "id": "L4pOmaWW1Tfi",
      "execution_count": 4,
      "outputs": [
        {
          "output_type": "stream",
          "name": "stdout",
          "text": [
            "Requirement already satisfied: scikit-image in /usr/local/lib/python3.11/dist-packages (0.25.1)\n",
            "Requirement already satisfied: numpy>=1.24 in /usr/local/lib/python3.11/dist-packages (from scikit-image) (1.26.4)\n",
            "Requirement already satisfied: scipy>=1.11.2 in /usr/local/lib/python3.11/dist-packages (from scikit-image) (1.13.1)\n",
            "Requirement already satisfied: networkx>=3.0 in /usr/local/lib/python3.11/dist-packages (from scikit-image) (3.4.2)\n",
            "Requirement already satisfied: pillow>=10.1 in /usr/local/lib/python3.11/dist-packages (from scikit-image) (11.1.0)\n",
            "Requirement already satisfied: imageio!=2.35.0,>=2.33 in /usr/local/lib/python3.11/dist-packages (from scikit-image) (2.36.1)\n",
            "Requirement already satisfied: tifffile>=2022.8.12 in /usr/local/lib/python3.11/dist-packages (from scikit-image) (2025.1.10)\n",
            "Requirement already satisfied: packaging>=21 in /usr/local/lib/python3.11/dist-packages (from scikit-image) (24.2)\n",
            "Requirement already satisfied: lazy-loader>=0.4 in /usr/local/lib/python3.11/dist-packages (from scikit-image) (0.4)\n"
          ]
        }
      ]
    },
    {
      "cell_type": "code",
      "source": [
        "!pip install pandas\n"
      ],
      "metadata": {
        "id": "eVxt37aG1anN",
        "outputId": "f1cd993e-fd9b-48bf-dfeb-1917c4b9b673",
        "colab": {
          "base_uri": "https://localhost:8080/"
        }
      },
      "id": "eVxt37aG1anN",
      "execution_count": 5,
      "outputs": [
        {
          "output_type": "stream",
          "name": "stdout",
          "text": [
            "Requirement already satisfied: pandas in /usr/local/lib/python3.11/dist-packages (2.2.2)\n",
            "Requirement already satisfied: numpy>=1.23.2 in /usr/local/lib/python3.11/dist-packages (from pandas) (1.26.4)\n",
            "Requirement already satisfied: python-dateutil>=2.8.2 in /usr/local/lib/python3.11/dist-packages (from pandas) (2.8.2)\n",
            "Requirement already satisfied: pytz>=2020.1 in /usr/local/lib/python3.11/dist-packages (from pandas) (2024.2)\n",
            "Requirement already satisfied: tzdata>=2022.7 in /usr/local/lib/python3.11/dist-packages (from pandas) (2025.1)\n",
            "Requirement already satisfied: six>=1.5 in /usr/local/lib/python3.11/dist-packages (from python-dateutil>=2.8.2->pandas) (1.17.0)\n"
          ]
        }
      ]
    },
    {
      "cell_type": "code",
      "execution_count": 6,
      "id": "musical-somalia",
      "metadata": {
        "id": "musical-somalia"
      },
      "outputs": [],
      "source": [
        "import cv2\n",
        "import sys\n",
        "import shutil\n",
        "import random\n",
        "import os\n",
        "import csv\n",
        "from pylab import *\n",
        "import numpy as np\n",
        "import matplotlib.pyplot as plt\n",
        "%matplotlib inline\n",
        "import itertools\n",
        "from PIL import Image\n",
        "import pandas as pd\n",
        "import glob\n",
        "\n",
        "from sklearn.model_selection import train_test_split\n",
        "from sklearn.metrics import confusion_matrix\n",
        "import tensorflow as tf\n",
        "from tensorflow.keras.utils import to_categorical\n",
        "from tensorflow.keras import optimizers\n",
        "from tensorflow.keras.callbacks import LearningRateScheduler\n",
        "from tensorflow.keras import models, layers\n",
        "from tensorflow.keras.models import Model, Sequential\n",
        "from tensorflow.keras.layers import Dense, Flatten, Dropout\n",
        "#!pip install efficientnet\n",
        "from efficientnet.tfkeras import EfficientNetB0\n",
        "from tensorflow.keras.applications.vgg16 import preprocess_input, decode_predictions\n",
        "from tensorflow.keras.preprocessing.image import ImageDataGenerator\n",
        "from tensorflow.keras.optimizers import Adam, RMSprop\n"
      ]
    },
    {
      "cell_type": "code",
      "execution_count": null,
      "id": "alpha-armenia",
      "metadata": {
        "id": "alpha-armenia"
      },
      "outputs": [],
      "source": [
        "#create necessary directory if the directory doesn't exist\n",
        "def create_necessary_folder():\n",
        "    #make dir for plottings\n",
        "    if not os.path.exists('plottings'): os.mkdir(f'{os.getcwd()}\\\\plottings')\n",
        "    #subfolders for every architecture\n",
        "    if not  os.path.exists('plottings\\\\vgg16'): os.mkdir(f'{os.getcwd()}\\\\plottings\\\\vgg16')\n",
        "    if not  os.path.exists('plottings\\\\vgg19'): os.mkdir(f'{os.getcwd()}\\\\plottings\\\\vgg19')\n",
        "    if not  os.path.exists('plottings\\\\effnet'): os.mkdir(f'{os.getcwd()}\\\\plottings\\\\effnet')\n",
        "    #make dir for models\n",
        "    if not os.path.exists('models'): os.mkdir(f'{os.getcwd()}\\\\models')\n",
        "    #subfolders for every architecture\n",
        "    if not  os.path.exists('models\\\\vgg16'): os.mkdir(f'{os.getcwd()}\\\\models\\\\vgg16')\n",
        "    if not  os.path.exists('models\\\\vgg19'): os.mkdir(f'{os.getcwd()}\\\\models\\\\vgg19')\n",
        "    if not  os.path.exists('models\\\\effnet'): os.mkdir(f'{os.getcwd()}\\\\models\\\\effnet')\n",
        "\n",
        "\n",
        "create_necessary_folder()\n"
      ]
    },
    {
      "cell_type": "code",
      "execution_count": null,
      "id": "decimal-disposal",
      "metadata": {
        "id": "decimal-disposal"
      },
      "outputs": [],
      "source": [
        "def step_decay_schedule(initial_lr=1e-3, decay_factor=0.75, step_size=10):\n",
        "    def schedule(epoch):\n",
        "        return initial_lr * (decay_factor ** np.floor(epoch / step_size))\n",
        "    return LearningRateScheduler(schedule)\n",
        "\n",
        "\n",
        "def import_dataset(path):\n",
        "    im = Image.open(path).convert('RGB')\n",
        "    return im\n"
      ]
    },
    {
      "cell_type": "markdown",
      "id": "nasty-obligation",
      "metadata": {
        "id": "nasty-obligation"
      },
      "source": [
        "### Try EfficientNet B0 (the base model)"
      ]
    },
    {
      "cell_type": "code",
      "execution_count": null,
      "id": "distinct-closing",
      "metadata": {
        "id": "distinct-closing"
      },
      "outputs": [],
      "source": [
        "X, Y = [], []\n",
        "\n",
        "dataset = pd.read_csv('ground-truth.csv')\n",
        "EPOCHS = 15\n",
        "LEARNING_RATE = 1e-3\n",
        "\n",
        "for index, row in dataset.iterrows():\n",
        "    X.append(array(import_dataset(row[0]).resize((100, 100))).flatten() / 255.0)\n",
        "    Y.append(row[1])\n",
        "\n",
        "X = np.array(X)\n",
        "Y = to_categorical(Y, 2)\n",
        "X = X.reshape(-1, 100, 100, 3)\n",
        "X_train, X_val, Y_train, Y_val = train_test_split(X, Y, test_size=0.20, random_state=5)\n",
        "\n",
        "#Load EfficientNet, also set drop_connect_rate for stronger regularization\n",
        "#input layer\n",
        "inputs = layers.Input(shape=(100,100,3))\n",
        "#declare EfficientNetB0\n",
        "model = EfficientNetB0(weights='imagenet', include_top=False, input_tensor=inputs, input_shape=(100, 100, 3), drop_connect_rate=0.4)\n",
        "model.trainable = False\n",
        "#rebuild top layers\n",
        "x = layers.GlobalAveragePooling2D(name=\"avg_pool\")(model.output)\n",
        "x = layers.BatchNormalization()(x)\n",
        "top_dropout_rate = 0.2\n",
        "x = layers.Dropout(top_dropout_rate, name=\"top_dropout\")(x)\n",
        "outputs = layers.Dense(2, activation=\"softmax\", name=\"pred\")(x)\n",
        "model = Model(inputs=inputs, outputs=outputs, name=\"EfficientNet\")\n",
        "model.summary()\n",
        "\n",
        "optimizer = optimizers.Adam(lr=LEARNING_RATE, epsilon=None)\n",
        "\n",
        "\n",
        "#hyperparameter settings\n",
        "epochs = EPOCHS\n",
        "batch_size = 16\n",
        "optimizer = optimizers.Adam(lr=LEARNING_RATE, epsilon=None)\n",
        "model.compile(optimizer=optimizer, loss=\"mean_squared_error\",metrics=['accuracy'])\n",
        "\n",
        "lr_sched = step_decay_schedule(initial_lr=1e-4, decay_factor=0.75, step_size=2)\n"
      ]
    },
    {
      "cell_type": "code",
      "execution_count": null,
      "id": "illegal-amsterdam",
      "metadata": {
        "id": "illegal-amsterdam"
      },
      "outputs": [],
      "source": [
        "history = model.fit(X_train, Y_train, batch_size=batch_size, epochs=epochs, validation_data=(X_val, Y_val), verbose=2,callbacks=[lr_sched])\n"
      ]
    },
    {
      "cell_type": "markdown",
      "id": "noted-google",
      "metadata": {
        "id": "noted-google"
      },
      "source": [
        "##### Set random ID for current training"
      ]
    },
    {
      "cell_type": "code",
      "execution_count": null,
      "id": "threaded-monkey",
      "metadata": {
        "id": "threaded-monkey"
      },
      "outputs": [],
      "source": [
        "import random\n",
        "#assign random code to make unique ID\n",
        "r = random.randint(1, 1000)\n",
        "print(f'Your unique ID is {r}, refer to this ID to check the latest data!')\n",
        "ID = f'{LEARNING_RATE}n{EPOCHS}_{r}'"
      ]
    },
    {
      "cell_type": "code",
      "execution_count": null,
      "id": "caring-sarah",
      "metadata": {
        "scrolled": true,
        "id": "caring-sarah"
      },
      "outputs": [],
      "source": [
        "#plotting\n",
        "def plot_confusion_matrix(cm, classes, normalize=False, title='Confusion matrix', cmap=plt.cm.Blues):\n",
        "    plt.imshow(cm, interpolation='nearest', cmap=cmap)\n",
        "    plt.title(title)\n",
        "    plt.colorbar()\n",
        "    tick_marks = np.arange(len(classes))\n",
        "    plt.xticks(tick_marks, classes, rotation=45)\n",
        "    plt.yticks(tick_marks, classes)\n",
        "\n",
        "    if normalize:\n",
        "        cm = cm.astype('float') / cm.sum(axis=1)[:, np.newaxis]\n",
        "\n",
        "    thresh = cm.max() / 2.\n",
        "    for i, j in itertools.product(range(cm.shape[0]), range(cm.shape[1])):\n",
        "        plt.text(j, i, cm[i, j], horizontalalignment=\"center\", color=\"white\" if cm[i, j] > thresh else \"black\")\n",
        "\n",
        "    plt.tight_layout()\n",
        "    plt.ylabel('True label')\n",
        "    plt.xlabel('Predicted label')\n",
        "\n",
        "#plt.subplot(2,1,1)\n",
        "plt.plot(history.history['accuracy'])\n",
        "plt.plot(history.history['val_accuracy'])\n",
        "plt.ylabel('accuracy')\n",
        "plt.xlabel('epoch')\n",
        "\n",
        "plt.savefig(f'plottings\\\\effnet\\\\acc_{ID}.png')\n",
        "plt.show()\n",
        "\n",
        "#plt.subplot(2,1,2)\n",
        "plt.plot(history.history['loss'])\n",
        "plt.plot(history.history['val_loss'])\n",
        "plt.ylabel('loss')\n",
        "plt.xlabel('epoch')\n",
        "plt.savefig(f'plottings\\\\effnet\\\\loss_{ID}.png')\n",
        "plt.show()\n",
        "\n",
        "Y_pred = model.predict(X_val)\n",
        "# Convert predictions classes to one hot vectors\n",
        "Y_pred_classes = np.argmax(Y_pred, axis=1)\n",
        "# Convert validation observations to one hot vectors\n",
        "Y_true = np.argmax(Y_val, axis=1)\n",
        "# compute the confusion matrix\n",
        "confusion_mtx = confusion_matrix(Y_true, Y_pred_classes)\n",
        "# plot the confusion matrix\n",
        "plot_confusion_matrix(confusion_mtx, classes=range(2))\n",
        "plt.savefig(f'plottings\\\\effnet\\\\cnfmtx_{ID}.png')\n",
        "plt.show()"
      ]
    },
    {
      "cell_type": "code",
      "execution_count": null,
      "id": "convenient-indonesia",
      "metadata": {
        "id": "convenient-indonesia"
      },
      "outputs": [],
      "source": [
        "def unfreeze_model(model):\n",
        "    # We unfreeze the top 20 layers while leaving BatchNorm layers frozen\n",
        "    for layer in model.layers[-20:]:\n",
        "        if not isinstance(layer, layers.BatchNormalization):\n",
        "            layer.trainable = True\n",
        "\n",
        "    optimizer = tf.keras.optimizers.Adam(learning_rate=1e-4)\n",
        "    model.compile(\n",
        "        optimizer=optimizer, loss=\"categorical_crossentropy\", metrics=[\"accuracy\"]\n",
        "    )\n",
        "\n",
        "unfreeze_model(model)\n",
        "\n",
        "epochs = EPOCHS  # @param {type: \"slider\", min:8, max:50}\n",
        "history = model.fit(X_train, Y_train, batch_size=batch_size, epochs=epochs, validation_data=(X_val, Y_val), verbose=2,callbacks=[lr_sched])\n"
      ]
    },
    {
      "cell_type": "code",
      "execution_count": null,
      "id": "grand-creek",
      "metadata": {
        "id": "grand-creek"
      },
      "outputs": [],
      "source": [
        "#plotting\n",
        "def plot_confusion_matrix(cm, classes, normalize=False, title='Confusion matrix', cmap=plt.cm.Blues):\n",
        "    plt.imshow(cm, interpolation='nearest', cmap=cmap)\n",
        "    plt.title(title)\n",
        "    plt.colorbar()\n",
        "    tick_marks = np.arange(len(classes))\n",
        "    plt.xticks(tick_marks, classes, rotation=45)\n",
        "    plt.yticks(tick_marks, classes)\n",
        "\n",
        "    if normalize:\n",
        "        cm = cm.astype('float') / cm.sum(axis=1)[:, np.newaxis]\n",
        "\n",
        "    thresh = cm.max() / 2.\n",
        "    for i, j in itertools.product(range(cm.shape[0]), range(cm.shape[1])):\n",
        "        plt.text(j, i, cm[i, j], horizontalalignment=\"center\", color=\"white\" if cm[i, j] > thresh else \"black\")\n",
        "\n",
        "    plt.tight_layout()\n",
        "    plt.ylabel('True label')\n",
        "    plt.xlabel('Predicted label')\n",
        "\n",
        "#plt.subplot(2,1,1)\n",
        "plt.plot(history.history['accuracy'])\n",
        "plt.plot(history.history['val_accuracy'])\n",
        "plt.ylabel('accuracy')\n",
        "plt.xlabel('epoch')\n",
        "\n",
        "plt.savefig(f'plottings\\\\effnet\\\\ftacc_{ID}.png')\n",
        "plt.show()\n",
        "\n",
        "#plt.subplot(2,1,2)\n",
        "plt.plot(history.history['loss'])\n",
        "plt.plot(history.history['val_loss'])\n",
        "plt.ylabel('loss')\n",
        "plt.xlabel('epoch')\n",
        "plt.savefig(f'plottings\\\\effnet\\\\ftloss_{ID}.png')\n",
        "plt.show()\n",
        "\n",
        "Y_pred = model.predict(X_val)\n",
        "# Convert predictions classes to one hot vectors\n",
        "Y_pred_classes = np.argmax(Y_pred, axis=1)\n",
        "# Convert validation observations to one hot vectors\n",
        "Y_true = np.argmax(Y_val, axis=1)\n",
        "# compute the confusion matrix\n",
        "confusion_mtx = confusion_matrix(Y_true, Y_pred_classes)\n",
        "# plot the confusion matrix\n",
        "plot_confusion_matrix(confusion_mtx, classes=range(2))\n",
        "plt.savefig(f'plottings\\\\effnet\\\\ftcnfmtx_{ID}.png')\n",
        "plt.show()"
      ]
    },
    {
      "cell_type": "code",
      "execution_count": null,
      "id": "structured-indicator",
      "metadata": {
        "id": "structured-indicator"
      },
      "outputs": [],
      "source": [
        "#save model\n",
        "model_name = f'models\\\\effnet\\\\{ID}.h5'\n",
        "model.save(model_name)\n",
        ""
      ]
    },
    {
      "cell_type": "code",
      "execution_count": null,
      "id": "conscious-maple",
      "metadata": {
        "id": "conscious-maple"
      },
      "outputs": [],
      "source": [
        "train_acc, val_acc = np.mean(history.history['accuracy']), np.mean(history.history['val_accuracy'])\n",
        "print(train_acc, val_acc)"
      ]
    },
    {
      "cell_type": "code",
      "execution_count": null,
      "id": "informative-lexington",
      "metadata": {
        "id": "informative-lexington"
      },
      "outputs": [],
      "source": [
        "with open('currently-used-effnet.txt','w+') as f:\n",
        "    f.write(model_name)"
      ]
    },
    {
      "cell_type": "markdown",
      "id": "statistical-headquarters",
      "metadata": {
        "id": "statistical-headquarters"
      },
      "source": [
        "## Testing"
      ]
    },
    {
      "cell_type": "code",
      "execution_count": null,
      "id": "consistent-regular",
      "metadata": {
        "scrolled": true,
        "id": "consistent-regular"
      },
      "outputs": [],
      "source": [
        "from tensorflow.keras.models import load_model\n",
        "import tensorflow as tf\n",
        "#test_set = glob.glob('MICC-F220\\\\*')\n",
        "test_set = glob.glob('test_set\\\\*')\n",
        "classes = []\n",
        "for img in test_set:\n",
        "    #data will have the label `tamp` if the data is tampered\n",
        "    if 'tamp' in img and img[len(img)-4:len(img)] == '.jpg':\n",
        "        classes.append('forged')\n",
        "    elif 'tamp' not in img and img[len(img)-4:len(img)] == '.jpg':\n",
        "        classes.append('unforged')\n",
        "\n",
        "#for i in range(len(test_set)): print(test_set[i], classes[i])\n",
        "#def predict():\n",
        "#load model\n",
        "model = load_model(model_name)\n",
        "predictions = []\n",
        "#test image iteration\n",
        "for i in tf.range(len(test_set)): #use tf.range for faster execution (operation is done in tf.Tensor)\n",
        "    image = Image.open(test_set[i]).convert('RGB')\n",
        "    image = array(image.resize((100,100))).flatten() / 255.0\n",
        "    image = image.reshape(-1,100,100,3)\n",
        "    pred = model.predict(image)[0]\n",
        "    #take the index of the predicted class\n",
        "    index = np.argmax(pred)\n",
        "    verdict = \"forged\" if index == 1 else \"unforged\"\n",
        "    predictions.append(verdict)"
      ]
    },
    {
      "cell_type": "code",
      "execution_count": null,
      "id": "announced-yugoslavia",
      "metadata": {
        "id": "announced-yugoslavia"
      },
      "outputs": [],
      "source": [
        "correct = 0\n",
        "for i in range(len(classes)):\n",
        "    if classes[i] == predictions[i]:\n",
        "        correct += 1\n",
        "    else: continue\n",
        "acc = correct / len(classes)\n",
        "print(f'Test accuracy: {round(acc*100,3)}%')"
      ]
    },
    {
      "cell_type": "code",
      "execution_count": null,
      "id": "spanish-implement",
      "metadata": {
        "id": "spanish-implement"
      },
      "outputs": [],
      "source": [
        "with open(f'plottings\\\\effnet\\\\testacc_{ID}.txt','w+') as f:\n",
        "    f.write(f'train_acc: {train_acc}\\nval_acc: {val_acc}\\n')\n",
        "    f.write(f'test_acc: {acc}')"
      ]
    },
    {
      "cell_type": "code",
      "execution_count": null,
      "id": "frozen-rider",
      "metadata": {
        "id": "frozen-rider"
      },
      "outputs": [],
      "source": [
        "#for i in range(len(classes)): print(classes[i], predictions[i])\n",
        "correct = 0\n",
        "plt.figure(figsize=(10,9))\n",
        "plt.subplots_adjust(hspace=0.5)\n",
        "for i in range(len(classes)):\n",
        "    im = cv2.imread(test_set[i])\n",
        "    #im.resize((30,30))\n",
        "    #print(im.shape)\n",
        "    plt.subplot(len(classes)/5+1,5,i+1)\n",
        "    plt.imshow(im)\n",
        "    color = 'green' if classes[i] == predictions[i] else 'red'\n",
        "    if color == 'green': correct += 1\n",
        "    #plt.title(f'{classes[i]}\\n{predictions[i]}', color=color)\n",
        "    plt.text(im.shape[1]/2,0,f'{classes[i]}\\n', ha=\"center\", va=\"bottom\", size=\"medium\")\n",
        "    plt.text(im.shape[1]/2,0,f'\\n{predictions[i]}', ha=\"center\", va=\"bottom\", size=\"medium\",color=color)\n",
        "    plt.axis('off')\n",
        "\n",
        "plt.savefig(f'plottings\\\\vgg19\\\\test_{ID}.png')\n",
        "plt.show()\n"
      ]
    },
    {
      "cell_type": "code",
      "execution_count": null,
      "id": "seventh-catalyst",
      "metadata": {
        "id": "seventh-catalyst"
      },
      "outputs": [],
      "source": []
    },
    {
      "cell_type": "code",
      "execution_count": null,
      "id": "another-removal",
      "metadata": {
        "id": "another-removal"
      },
      "outputs": [],
      "source": []
    }
  ],
  "metadata": {
    "kernelspec": {
      "display_name": "project",
      "language": "python",
      "name": "project"
    },
    "language_info": {
      "codemirror_mode": {
        "name": "ipython",
        "version": 3
      },
      "file_extension": ".py",
      "mimetype": "text/x-python",
      "name": "python",
      "nbconvert_exporter": "python",
      "pygments_lexer": "ipython3",
      "version": "3.7.10"
    },
    "colab": {
      "provenance": [],
      "toc_visible": true
    }
  },
  "nbformat": 4,
  "nbformat_minor": 5
}