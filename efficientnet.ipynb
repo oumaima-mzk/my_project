{
  "cells": [
    {
      "cell_type": "code",
      "source": [
        "!pip install numpy opencv-python matplotlib pillow\n"
      ],
      "metadata": {
        "id": "5qiGbONe0rwG",
        "outputId": "4ae0ee1e-cd9b-41da-d447-6f8c3f6893b9",
        "colab": {
          "base_uri": "https://localhost:8080/"
        }
      },
      "id": "5qiGbONe0rwG",
      "execution_count": 14,
      "outputs": [
        {
          "output_type": "stream",
          "name": "stdout",
          "text": [
            "Requirement already satisfied: numpy in /usr/local/lib/python3.11/dist-packages (1.26.4)\n",
            "Requirement already satisfied: opencv-python in /usr/local/lib/python3.11/dist-packages (4.11.0.86)\n",
            "Requirement already satisfied: matplotlib in /usr/local/lib/python3.11/dist-packages (3.10.0)\n",
            "Requirement already satisfied: pillow in /usr/local/lib/python3.11/dist-packages (11.1.0)\n",
            "Requirement already satisfied: contourpy>=1.0.1 in /usr/local/lib/python3.11/dist-packages (from matplotlib) (1.3.1)\n",
            "Requirement already satisfied: cycler>=0.10 in /usr/local/lib/python3.11/dist-packages (from matplotlib) (0.12.1)\n",
            "Requirement already satisfied: fonttools>=4.22.0 in /usr/local/lib/python3.11/dist-packages (from matplotlib) (4.55.8)\n",
            "Requirement already satisfied: kiwisolver>=1.3.1 in /usr/local/lib/python3.11/dist-packages (from matplotlib) (1.4.8)\n",
            "Requirement already satisfied: packaging>=20.0 in /usr/local/lib/python3.11/dist-packages (from matplotlib) (24.2)\n",
            "Requirement already satisfied: pyparsing>=2.3.1 in /usr/local/lib/python3.11/dist-packages (from matplotlib) (3.2.1)\n",
            "Requirement already satisfied: python-dateutil>=2.7 in /usr/local/lib/python3.11/dist-packages (from matplotlib) (2.8.2)\n",
            "Requirement already satisfied: six>=1.5 in /usr/local/lib/python3.11/dist-packages (from python-dateutil>=2.7->matplotlib) (1.17.0)\n"
          ]
        }
      ]
    },
    {
      "cell_type": "code",
      "source": [
        "!pip install tensorflow keras\n"
      ],
      "metadata": {
        "id": "XqK-7QNO01TF",
        "outputId": "324a0392-0f74-465d-8127-86d22cd45cc8",
        "colab": {
          "base_uri": "https://localhost:8080/"
        }
      },
      "id": "XqK-7QNO01TF",
      "execution_count": 15,
      "outputs": [
        {
          "output_type": "stream",
          "name": "stdout",
          "text": [
            "Requirement already satisfied: tensorflow in /usr/local/lib/python3.11/dist-packages (2.18.0)\n",
            "Requirement already satisfied: keras in /usr/local/lib/python3.11/dist-packages (3.8.0)\n",
            "Requirement already satisfied: absl-py>=1.0.0 in /usr/local/lib/python3.11/dist-packages (from tensorflow) (1.4.0)\n",
            "Requirement already satisfied: astunparse>=1.6.0 in /usr/local/lib/python3.11/dist-packages (from tensorflow) (1.6.3)\n",
            "Requirement already satisfied: flatbuffers>=24.3.25 in /usr/local/lib/python3.11/dist-packages (from tensorflow) (25.1.24)\n",
            "Requirement already satisfied: gast!=0.5.0,!=0.5.1,!=0.5.2,>=0.2.1 in /usr/local/lib/python3.11/dist-packages (from tensorflow) (0.6.0)\n",
            "Requirement already satisfied: google-pasta>=0.1.1 in /usr/local/lib/python3.11/dist-packages (from tensorflow) (0.2.0)\n",
            "Requirement already satisfied: libclang>=13.0.0 in /usr/local/lib/python3.11/dist-packages (from tensorflow) (18.1.1)\n",
            "Requirement already satisfied: opt-einsum>=2.3.2 in /usr/local/lib/python3.11/dist-packages (from tensorflow) (3.4.0)\n",
            "Requirement already satisfied: packaging in /usr/local/lib/python3.11/dist-packages (from tensorflow) (24.2)\n",
            "Requirement already satisfied: protobuf!=4.21.0,!=4.21.1,!=4.21.2,!=4.21.3,!=4.21.4,!=4.21.5,<6.0.0dev,>=3.20.3 in /usr/local/lib/python3.11/dist-packages (from tensorflow) (4.25.6)\n",
            "Requirement already satisfied: requests<3,>=2.21.0 in /usr/local/lib/python3.11/dist-packages (from tensorflow) (2.32.3)\n",
            "Requirement already satisfied: setuptools in /usr/local/lib/python3.11/dist-packages (from tensorflow) (75.1.0)\n",
            "Requirement already satisfied: six>=1.12.0 in /usr/local/lib/python3.11/dist-packages (from tensorflow) (1.17.0)\n",
            "Requirement already satisfied: termcolor>=1.1.0 in /usr/local/lib/python3.11/dist-packages (from tensorflow) (2.5.0)\n",
            "Requirement already satisfied: typing-extensions>=3.6.6 in /usr/local/lib/python3.11/dist-packages (from tensorflow) (4.12.2)\n",
            "Requirement already satisfied: wrapt>=1.11.0 in /usr/local/lib/python3.11/dist-packages (from tensorflow) (1.17.2)\n",
            "Requirement already satisfied: grpcio<2.0,>=1.24.3 in /usr/local/lib/python3.11/dist-packages (from tensorflow) (1.70.0)\n",
            "Requirement already satisfied: tensorboard<2.19,>=2.18 in /usr/local/lib/python3.11/dist-packages (from tensorflow) (2.18.0)\n",
            "Requirement already satisfied: numpy<2.1.0,>=1.26.0 in /usr/local/lib/python3.11/dist-packages (from tensorflow) (1.26.4)\n",
            "Requirement already satisfied: h5py>=3.11.0 in /usr/local/lib/python3.11/dist-packages (from tensorflow) (3.12.1)\n",
            "Requirement already satisfied: ml-dtypes<0.5.0,>=0.4.0 in /usr/local/lib/python3.11/dist-packages (from tensorflow) (0.4.1)\n",
            "Requirement already satisfied: tensorflow-io-gcs-filesystem>=0.23.1 in /usr/local/lib/python3.11/dist-packages (from tensorflow) (0.37.1)\n",
            "Requirement already satisfied: rich in /usr/local/lib/python3.11/dist-packages (from keras) (13.9.4)\n",
            "Requirement already satisfied: namex in /usr/local/lib/python3.11/dist-packages (from keras) (0.0.8)\n",
            "Requirement already satisfied: optree in /usr/local/lib/python3.11/dist-packages (from keras) (0.14.0)\n",
            "Requirement already satisfied: wheel<1.0,>=0.23.0 in /usr/local/lib/python3.11/dist-packages (from astunparse>=1.6.0->tensorflow) (0.45.1)\n",
            "Requirement already satisfied: charset-normalizer<4,>=2 in /usr/local/lib/python3.11/dist-packages (from requests<3,>=2.21.0->tensorflow) (3.4.1)\n",
            "Requirement already satisfied: idna<4,>=2.5 in /usr/local/lib/python3.11/dist-packages (from requests<3,>=2.21.0->tensorflow) (3.10)\n",
            "Requirement already satisfied: urllib3<3,>=1.21.1 in /usr/local/lib/python3.11/dist-packages (from requests<3,>=2.21.0->tensorflow) (2.3.0)\n",
            "Requirement already satisfied: certifi>=2017.4.17 in /usr/local/lib/python3.11/dist-packages (from requests<3,>=2.21.0->tensorflow) (2025.1.31)\n",
            "Requirement already satisfied: markdown>=2.6.8 in /usr/local/lib/python3.11/dist-packages (from tensorboard<2.19,>=2.18->tensorflow) (3.7)\n",
            "Requirement already satisfied: tensorboard-data-server<0.8.0,>=0.7.0 in /usr/local/lib/python3.11/dist-packages (from tensorboard<2.19,>=2.18->tensorflow) (0.7.2)\n",
            "Requirement already satisfied: werkzeug>=1.0.1 in /usr/local/lib/python3.11/dist-packages (from tensorboard<2.19,>=2.18->tensorflow) (3.1.3)\n",
            "Requirement already satisfied: markdown-it-py>=2.2.0 in /usr/local/lib/python3.11/dist-packages (from rich->keras) (3.0.0)\n",
            "Requirement already satisfied: pygments<3.0.0,>=2.13.0 in /usr/local/lib/python3.11/dist-packages (from rich->keras) (2.18.0)\n",
            "Requirement already satisfied: mdurl~=0.1 in /usr/local/lib/python3.11/dist-packages (from markdown-it-py>=2.2.0->rich->keras) (0.1.2)\n",
            "Requirement already satisfied: MarkupSafe>=2.1.1 in /usr/local/lib/python3.11/dist-packages (from werkzeug>=1.0.1->tensorboard<2.19,>=2.18->tensorflow) (3.0.2)\n"
          ]
        }
      ]
    },
    {
      "cell_type": "code",
      "source": [
        "!pip install -U efficientnet\n",
        "import efficientnet.tfkeras as efn\n"
      ],
      "metadata": {
        "id": "rtyxu1A71NsE",
        "outputId": "96344fa8-6777-4579-e08e-120f700fbfcf",
        "colab": {
          "base_uri": "https://localhost:8080/"
        }
      },
      "id": "rtyxu1A71NsE",
      "execution_count": 16,
      "outputs": [
        {
          "output_type": "stream",
          "name": "stdout",
          "text": [
            "Requirement already satisfied: efficientnet in /usr/local/lib/python3.11/dist-packages (1.1.1)\n",
            "Requirement already satisfied: keras-applications<=1.0.8,>=1.0.7 in /usr/local/lib/python3.11/dist-packages (from efficientnet) (1.0.8)\n",
            "Requirement already satisfied: scikit-image in /usr/local/lib/python3.11/dist-packages (from efficientnet) (0.25.1)\n",
            "Requirement already satisfied: numpy>=1.9.1 in /usr/local/lib/python3.11/dist-packages (from keras-applications<=1.0.8,>=1.0.7->efficientnet) (1.26.4)\n",
            "Requirement already satisfied: h5py in /usr/local/lib/python3.11/dist-packages (from keras-applications<=1.0.8,>=1.0.7->efficientnet) (3.12.1)\n",
            "Requirement already satisfied: scipy>=1.11.2 in /usr/local/lib/python3.11/dist-packages (from scikit-image->efficientnet) (1.13.1)\n",
            "Requirement already satisfied: networkx>=3.0 in /usr/local/lib/python3.11/dist-packages (from scikit-image->efficientnet) (3.4.2)\n",
            "Requirement already satisfied: pillow>=10.1 in /usr/local/lib/python3.11/dist-packages (from scikit-image->efficientnet) (11.1.0)\n",
            "Requirement already satisfied: imageio!=2.35.0,>=2.33 in /usr/local/lib/python3.11/dist-packages (from scikit-image->efficientnet) (2.37.0)\n",
            "Requirement already satisfied: tifffile>=2022.8.12 in /usr/local/lib/python3.11/dist-packages (from scikit-image->efficientnet) (2025.1.10)\n",
            "Requirement already satisfied: packaging>=21 in /usr/local/lib/python3.11/dist-packages (from scikit-image->efficientnet) (24.2)\n",
            "Requirement already satisfied: lazy-loader>=0.4 in /usr/local/lib/python3.11/dist-packages (from scikit-image->efficientnet) (0.4)\n"
          ]
        }
      ]
    },
    {
      "cell_type": "code",
      "source": [
        "!pip install scikit-image\n"
      ],
      "metadata": {
        "id": "L4pOmaWW1Tfi",
        "outputId": "da5d7268-f50c-4c54-b8ab-041e0f26c03f",
        "colab": {
          "base_uri": "https://localhost:8080/"
        }
      },
      "id": "L4pOmaWW1Tfi",
      "execution_count": 17,
      "outputs": [
        {
          "output_type": "stream",
          "name": "stdout",
          "text": [
            "Requirement already satisfied: scikit-image in /usr/local/lib/python3.11/dist-packages (0.25.1)\n",
            "Requirement already satisfied: numpy>=1.24 in /usr/local/lib/python3.11/dist-packages (from scikit-image) (1.26.4)\n",
            "Requirement already satisfied: scipy>=1.11.2 in /usr/local/lib/python3.11/dist-packages (from scikit-image) (1.13.1)\n",
            "Requirement already satisfied: networkx>=3.0 in /usr/local/lib/python3.11/dist-packages (from scikit-image) (3.4.2)\n",
            "Requirement already satisfied: pillow>=10.1 in /usr/local/lib/python3.11/dist-packages (from scikit-image) (11.1.0)\n",
            "Requirement already satisfied: imageio!=2.35.0,>=2.33 in /usr/local/lib/python3.11/dist-packages (from scikit-image) (2.37.0)\n",
            "Requirement already satisfied: tifffile>=2022.8.12 in /usr/local/lib/python3.11/dist-packages (from scikit-image) (2025.1.10)\n",
            "Requirement already satisfied: packaging>=21 in /usr/local/lib/python3.11/dist-packages (from scikit-image) (24.2)\n",
            "Requirement already satisfied: lazy-loader>=0.4 in /usr/local/lib/python3.11/dist-packages (from scikit-image) (0.4)\n"
          ]
        }
      ]
    },
    {
      "cell_type": "code",
      "source": [
        "!pip install pandas\n"
      ],
      "metadata": {
        "id": "eVxt37aG1anN",
        "outputId": "472d87d4-3b1e-43fb-9cbb-0c6b5e5877fa",
        "colab": {
          "base_uri": "https://localhost:8080/"
        }
      },
      "id": "eVxt37aG1anN",
      "execution_count": 18,
      "outputs": [
        {
          "output_type": "stream",
          "name": "stdout",
          "text": [
            "Requirement already satisfied: pandas in /usr/local/lib/python3.11/dist-packages (2.2.2)\n",
            "Requirement already satisfied: numpy>=1.23.2 in /usr/local/lib/python3.11/dist-packages (from pandas) (1.26.4)\n",
            "Requirement already satisfied: python-dateutil>=2.8.2 in /usr/local/lib/python3.11/dist-packages (from pandas) (2.8.2)\n",
            "Requirement already satisfied: pytz>=2020.1 in /usr/local/lib/python3.11/dist-packages (from pandas) (2025.1)\n",
            "Requirement already satisfied: tzdata>=2022.7 in /usr/local/lib/python3.11/dist-packages (from pandas) (2025.1)\n",
            "Requirement already satisfied: six>=1.5 in /usr/local/lib/python3.11/dist-packages (from python-dateutil>=2.8.2->pandas) (1.17.0)\n"
          ]
        }
      ]
    },
    {
      "cell_type": "code",
      "source": [
        "!pip install opendatasets\n"
      ],
      "metadata": {
        "id": "VthgItcJ_1lK",
        "outputId": "7a8409f4-0262-45bd-8fa3-613a6229d2ed",
        "colab": {
          "base_uri": "https://localhost:8080/"
        }
      },
      "id": "VthgItcJ_1lK",
      "execution_count": 19,
      "outputs": [
        {
          "output_type": "stream",
          "name": "stdout",
          "text": [
            "Requirement already satisfied: opendatasets in /usr/local/lib/python3.11/dist-packages (0.1.22)\n",
            "Requirement already satisfied: tqdm in /usr/local/lib/python3.11/dist-packages (from opendatasets) (4.67.1)\n",
            "Requirement already satisfied: kaggle in /usr/local/lib/python3.11/dist-packages (from opendatasets) (1.6.17)\n",
            "Requirement already satisfied: click in /usr/local/lib/python3.11/dist-packages (from opendatasets) (8.1.8)\n",
            "Requirement already satisfied: six>=1.10 in /usr/local/lib/python3.11/dist-packages (from kaggle->opendatasets) (1.17.0)\n",
            "Requirement already satisfied: certifi>=2023.7.22 in /usr/local/lib/python3.11/dist-packages (from kaggle->opendatasets) (2025.1.31)\n",
            "Requirement already satisfied: python-dateutil in /usr/local/lib/python3.11/dist-packages (from kaggle->opendatasets) (2.8.2)\n",
            "Requirement already satisfied: requests in /usr/local/lib/python3.11/dist-packages (from kaggle->opendatasets) (2.32.3)\n",
            "Requirement already satisfied: python-slugify in /usr/local/lib/python3.11/dist-packages (from kaggle->opendatasets) (8.0.4)\n",
            "Requirement already satisfied: urllib3 in /usr/local/lib/python3.11/dist-packages (from kaggle->opendatasets) (2.3.0)\n",
            "Requirement already satisfied: bleach in /usr/local/lib/python3.11/dist-packages (from kaggle->opendatasets) (6.2.0)\n",
            "Requirement already satisfied: webencodings in /usr/local/lib/python3.11/dist-packages (from bleach->kaggle->opendatasets) (0.5.1)\n",
            "Requirement already satisfied: text-unidecode>=1.3 in /usr/local/lib/python3.11/dist-packages (from python-slugify->kaggle->opendatasets) (1.3)\n",
            "Requirement already satisfied: charset-normalizer<4,>=2 in /usr/local/lib/python3.11/dist-packages (from requests->kaggle->opendatasets) (3.4.1)\n",
            "Requirement already satisfied: idna<4,>=2.5 in /usr/local/lib/python3.11/dist-packages (from requests->kaggle->opendatasets) (3.10)\n"
          ]
        }
      ]
    },
    {
      "cell_type": "code",
      "source": [
        "!pip install pandas"
      ],
      "metadata": {
        "id": "bJTg8ZpcABJ3",
        "outputId": "d4eb2f38-6bdc-4c36-b2ac-d6c5136b54dc",
        "colab": {
          "base_uri": "https://localhost:8080/"
        }
      },
      "id": "bJTg8ZpcABJ3",
      "execution_count": 20,
      "outputs": [
        {
          "output_type": "stream",
          "name": "stdout",
          "text": [
            "Requirement already satisfied: pandas in /usr/local/lib/python3.11/dist-packages (2.2.2)\n",
            "Requirement already satisfied: numpy>=1.23.2 in /usr/local/lib/python3.11/dist-packages (from pandas) (1.26.4)\n",
            "Requirement already satisfied: python-dateutil>=2.8.2 in /usr/local/lib/python3.11/dist-packages (from pandas) (2.8.2)\n",
            "Requirement already satisfied: pytz>=2020.1 in /usr/local/lib/python3.11/dist-packages (from pandas) (2025.1)\n",
            "Requirement already satisfied: tzdata>=2022.7 in /usr/local/lib/python3.11/dist-packages (from pandas) (2025.1)\n",
            "Requirement already satisfied: six>=1.5 in /usr/local/lib/python3.11/dist-packages (from python-dateutil>=2.8.2->pandas) (1.17.0)\n"
          ]
        }
      ]
    },
    {
      "cell_type": "code",
      "source": [
        "od.download(\"https://www.kaggle.com/datasets/manas29/micc-f2000\")"
      ],
      "metadata": {
        "id": "qtvRTPgZBxcO",
        "outputId": "a215e9b0-0c16-42db-a84e-bd69f1aa6365",
        "colab": {
          "base_uri": "https://localhost:8080/"
        }
      },
      "id": "qtvRTPgZBxcO",
      "execution_count": 22,
      "outputs": [
        {
          "output_type": "stream",
          "name": "stdout",
          "text": [
            "Skipping, found downloaded files in \"./micc-f2000\" (use force=True to force download)\n"
          ]
        }
      ]
    },
    {
      "cell_type": "code",
      "source": [
        "import pandas as pds\n",
        "import csv"
      ],
      "metadata": {
        "id": "af4_gcjVCbs6"
      },
      "id": "af4_gcjVCbs6",
      "execution_count": 24,
      "outputs": []
    },
    {
      "cell_type": "code",
      "source": [
        "import os\n",
        "print(os.listdir(\"/content/micc-f2000/MICC-F2000\"))"
      ],
      "metadata": {
        "id": "OVzd9CgKGFdc",
        "outputId": "718e0b39-f8c6-42b3-ca07-68bca02373d3",
        "colab": {
          "base_uri": "https://localhost:8080/"
        }
      },
      "id": "OVzd9CgKGFdc",
      "execution_count": 26,
      "outputs": [
        {
          "output_type": "stream",
          "name": "stdout",
          "text": [
            "['DSC01172tamp12.jpg', '00017_2_scale.jpg', 'DSC_0279tamp6.jpg', 'DSC_1199_scale.jpg', 'DSC_0279tamp11.jpg', 'DSCF1853tamp2.jpg', 'DSC_0348_scale.jpg', 'DSC_0275_scale.jpg', 'DSC_0020_scale.jpg', 'DSC_0463_scale.jpg', 'DSC_1811tamp10.jpg', 'PC190612tamp5.jpg', 'DSC_1180_scale.jpg', 'DSC_0648tamp8.jpg', 'DSCF0272_scale.jpg', 'DSC_0264tamp1.jpg', 'IMG_2197_scale.jpg', 'P1000528tamp9.jpg', 'DSC_0064_01_scale.jpg', 'P1000528tamp13.jpg', 'DSCF0170tamp11.jpg', '00007_scale.jpg', 'DSC_1535tamp6.jpg', 'DSC_0039_01_scale.jpg', 'DSC_1217_scale.jpg', 'DSC_0676_scale.jpg', 'DSC_1306_scale.jpg', 'DSC_0279tamp8.jpg', 'DSC_1139_scale.jpg', 'DSC_1535tamp1.jpg', 'DSC_0968_scale.jpg', 'DSC_0097_scale.jpg', 'DSC_0097tamp13.jpg', 'P7150093_scale.jpg', 'DSCF0670tamp14.jpg', 'DSCF18tamp6.jpg', '00013_2_scale.jpg', 'DSCF0201tamp9.jpg', 'DSC_0013_01tamp6.jpg', 'DSC_0812_scale.jpg', 'PC190612tamp2.jpg', 'DSC_0242_01tamp13.jpg', 'DSC_1019_scale.jpg', 'P1000472tamp10.jpg', '00007tamp8.jpg', 'P1020711_scale.jpg', 'DSCF1853tamp3.jpg', 'DSC_0409tamp7.jpg', 'DCAM0502_scale.jpg', 'DSC_0346_scale.jpg', 'DSC_0572_scale.jpg', 'DSC_1540tamp14.jpg', 'DSC_0242_01tamp8.jpg', 'PC190612tamp9.jpg', 'P1020796_scale.jpg', 'DSC_1143_scale.jpg', 'DSCF0280_scale.jpg', 'DSC_0153tamp11.jpg', 'P1020785_scale.jpg', 'DSCN47tamp10.jpg', 'DSC_0250_scale.jpg', 'P1020817_scale.jpg', 'DSC_0139_scale.jpg', 'DSCF1248tamp14.jpg', '00007tamp10.jpg', 'DSC_0633_scale.jpg', 'DSC_0141_01_scale.jpg', 'PA260228_scale.jpg', 'DSC_0494_scale.jpg', 'DSC_0112_scale.jpg', 'IMG_2360_scale.jpg', 'DSC_0449_scale.jpg', 'sony_61tamp11.jpg', 'DSC_0097tamp1.jpg', 'P1020739_scale.jpg', 'PA260237tamp4.jpg', 'DSCF0270_scale.jpg', 'DSC_0242_01tamp12.jpg', 'DSC_0111_scale.jpg', 'P1020792_scale.jpg', 'DSC_0043_01_scale.jpg', 'DSC01207_scale.jpg', 'IMG_2934_scale.jpg', 'brasimone007_scale.jpg', 'DSC_0003_01_scale.jpg', 'DSC_0220_scale.jpg', 'sony_61tamp1.jpg', 'P1020733_scale.jpg', 'PC190612tamp10.jpg', 'P1000472tamp14.jpg', 'DSC_1716tamp9.jpg', 'DSCN41tamp14.jpg', 'DSC_1347_scale.jpg', 'DSC_0162_scale.jpg', 'DSCF0670tamp9.jpg', 'DSC_1240_scale.jpg', 'DSC_0219_scale.jpg', 'DSC_0981_scale.jpg', 'IMG_2382_scale.jpg', 'PC190612tamp8.jpg', 'DSC01172tamp7.jpg', 'P1020795_scale.jpg', 'DSCF0018_scale.jpg', 'DSC01187_scale.jpg', 'DSC_0215tamp12.jpg', 'IMG_2178_scale.jpg', 'DSC_0176_scale.jpg', 'P4120010tamp14.jpg', 'IMG_2504_scale.jpg', 'DSC_0615_scale.jpg', 'DSC_0812tamp6.jpg', 'P4120010tamp6.jpg', 'P1000293tamp10.jpg', 'P1000528tamp6.jpg', 'DSC_0535tamp14.jpg', 'DSC_1568_scale.jpg', 'DSC_1284_scale.jpg', 'DSC_0051_01_scale.jpg', 'P7290459tamp13.jpg', 'DSCF8tamp12.jpg', 'P7290459tamp4.jpg', 'DSC_0131_scale.jpg', 'DSC_0744_scale.jpg', 'DSC_0125_scale.jpg', 'DSCN2322_scale.jpg', 'DSC_0648tamp6.jpg', 'DSC01206_scale.jpg', 'nikon_7tamp4.jpg', 'DSC_1128_scale.jpg', 'DSC01202_scale.jpg', 'DSC_0247_scale.jpg', 'P1020786_scale.jpg', 'DSC_0196_scale.jpg', '00007tamp7.jpg', 'DSC_0233_scale.jpg', 'DSC_0050_01_scale.jpg', 'DSC_0103_scale.jpg', 'DSC_0097tamp3.jpg', 'DSCN2329tamp5.jpg', 'DSC_0254tamp3.jpg', 'P8020516_scale.jpg', 'IMG_2671_scale.jpg', 'DSC_1015_scale.jpg', 'DSC_0762_scale.jpg', 'DSC_1181_scale.jpg', 'DSC_0609_scale.jpg', 'DSC_0013_01tamp7.jpg', 'DSCF0262_scale.jpg', 'DSC_1278_scale.jpg', 'DSC01176_scale.jpg', 'DSC_1039_scale.jpg', 'PC190612tamp7.jpg', 'P1020750_scale.jpg', 'P1020738_scale.jpg', 'DSC_0607_scale.jpg', 'DSC_0129_scale.jpg', 'DSC_0971_scale.jpg', 'P1020797_scale.jpg', 'DSC_0107_scale.jpg', 'P1020735_scale.jpg', 'DSC_0409tamp3.jpg', 'IMG_2927_scale.jpg', 'DSC01188_scale.jpg', 'DSC_1196_scale.jpg', 'DSC_0199_01_scale.jpg', 'DCAM0188_scale.jpg', 'P1000231tamp1.jpg', 'DSC_1254_scale.jpg', 'sony_61tamp13.jpg', 'DSC_0068_scale.jpg', 'DSC_0355_scale.jpg', 'DSC_0769_scale.jpg', 'DSC_0380_scale.jpg', 'DSC_0573_scale.jpg', 'DSC_1314_scale.jpg', 'DSC_1540tamp1.jpg', 'DSC_0630_scale.jpg', 'DSC_0121_01_scale.jpg', 'P1020819_scale.jpg', 'DSC_1149_scale.jpg', 'DSC_1315_scale.jpg', 'DSC_0256_scale.jpg', 'IMG_2295_scale.jpg', 'P1000231tamp13.jpg', 'DSC_1535tamp10.jpg', 'DSC_0110_scale.jpg', 'DSC_0215tamp1.jpg', 'DSC_1943tamp8.jpg', 'DSC_1419_scale.jpg', 'DSC_0231_scale.jpg', 'IMG_2543_scale.jpg', 'DSC_1247_scale.jpg', 'IMG_2706_scale.jpg', 'DSC_1038_scale.jpg', 'DSC_0136_scale.jpg', 'DSC_0264tamp5.jpg', 'IMG_2495_scale.jpg', 'DSC_1047_scale.jpg', 'nikon_7tamp12.jpg', 'DSC_0125_01_scale.jpg', 'P7160111_scale.jpg', 'DSC_0097tamp10.jpg', 'DSC01919_scale.jpg', 'DSC_1252_scale.jpg', 'P1020683_scale.jpg', 'DSC_0443_scale.jpg', 'DSC_1411_scale.jpg', 'DSC_1408_scale.jpg', 'DSC_0974_scale.jpg', 'DSC_0740_scale.jpg', 'DSC01627_scale.jpg', 'DSC_0291_scale.jpg', 'DSC_0227_01_scale.jpg', 'DSCF8tamp11.jpg', 'DSC_0608_scale.jpg', 'DSC_1540tamp2.jpg', 'sony_61tamp10.jpg', 'DSC_0089_01_scale.jpg', 'P1020761_scale.jpg', 'DSC_0215_01tamp11.jpg', 'DSCF0170tamp13.jpg', 'IMG_2221_scale.jpg', 'P1020762_scale.jpg', 'DSCF0670tamp7.jpg', 'DSC_1130_scale.jpg', 'DSC01640tamp8.jpg', 'DSC_0634_scale.jpg', 'DSC_0108_01_scale.jpg', 'DSC_0279_scale.jpg', 'DSC_1716tamp1.jpg', 'DSC_0222_scale.jpg', 'DSC_0083_scale.jpg', 'IMG_2646_scale.jpg', 'DSC_0101_01_scale.jpg', 'DSC_0091_01_scale.jpg', 'P1020798_scale.jpg', 'IMG_2255_scale.jpg', 'DSC_0373_scale.jpg', 'DSC_0138_01_scale.jpg', 'DSC_0279tamp12.jpg', 'DSC_0539_scale.jpg', 'DSC_1046_scale.jpg', 'DSCF18tamp2.jpg', 'IMG_2930_scale.jpg', 'P1020776_scale.jpg', 'PA260237tamp6.jpg', 'DSC_1244_scale.jpg', 'DSC_0153tamp9.jpg', 'DSC_0052_01_scale.jpg', 'DSCF0207_scale.jpg', 'DSC_1013_scale.jpg', 'DSC_0254tamp6.jpg', 'DSCF1853tamp11.jpg', 'DSCF1337tamp7.jpg', 'DSC_0746_scale.jpg', 'DSC_0242_01tamp9.jpg', 'DSC_0447_scale.jpg', 'DSC_0773_scale.jpg', 'DSC_0116_scale.jpg', 'DSC01172tamp5.jpg', 'DSC_1035_scale.jpg', 'P4130053_scale.jpg', 'DSC_1535tamp7.jpg', 'DSCF0279_scale.jpg', 'DSC_1418_scale.jpg', 'IMG_2926_scale.jpg', 'DSCF0018tamp12.jpg', 'P1000293tamp9.jpg', 'DSC01844_scale.jpg', 'IMG_2192_scale.jpg', 'P7030175_scale.jpg', 'DSC_0343_scale.jpg', 'DSC_1006_scale.jpg', 'nikon_7tamp7.jpg', 'DSC_0258tamp11.jpg', 'DSC_0350_scale.jpg', 'DSCF18tamp5.jpg', 'DSC_0135_scale.jpg', 'DSC_0110_01_scale.jpg', 'PA260237tamp2.jpg', 'DSCF0170tamp12.jpg', '00007tamp5.jpg', 'DSCF0018tamp10.jpg', 'DSC_0648tamp3.jpg', 'P6290080_scale.jpg', 'P1000528tamp4.jpg', 'DSCN47tamp11.jpg', 'DSC_0152_scale.jpg', 'DSC_0127_scale.jpg', 'DSC_1610_scale.jpg', 'DSC_1052_scale.jpg', 'P1020544_scale.jpg', 'DSC_1365_scale.jpg', 'P1020746_scale.jpg', 'DSC_1410_scale.jpg', 'DSC_0457_scale.jpg', 'DSC_0040_01_scale.jpg', 'P6070389_scale.jpg', 'P1000231tamp6.jpg', 'DCAM0147_scale.jpg', 'P1000231tamp14.jpg', 'P1000528tamp3.jpg', 'DSCN47tamp8.jpg', 'DSCF1248tamp4.jpg', 'P8040554_scale.jpg', 'DSC_0115_scale.jpg', 'DSC_0409tamp11.jpg', 'DSC_0645_scale.jpg', '00010_scale.jpg', 'DSC_1246_scale.jpg', 'P6040372_scale.jpg', 'P7160123_scale.jpg', 'IMG_2931_scale.jpg', 'DSC_0621_scale.jpg', 'DSC_1943tamp14.jpg', 'DSC_0569_scale.jpg', 'DSC_0279tamp14.jpg', 'sony_61tamp4.jpg', 'DSC_1943tamp12.jpg', 'DSC01172tamp9.jpg', 'DSC_1237_scale.jpg', 'DSC01176tamp3.jpg', 'DSC_0286_scale.jpg', 'DSC_0112_01_scale.jpg', 'DSC_1268_scale.jpg', 'P1020730_scale.jpg', 'PC190612tamp14.jpg', 'DSC_0070_scale.jpg', 'DSCF1337tamp4.jpg', 'PA260219_scale.jpg', 'nikon_7tamp13.jpg', 'DSC_0372_scale.jpg', 'DSCF1853tamp9.jpg', 'P4120010tamp3.jpg', 'DSC_1308_scale.jpg', 'DSCF0223_scale.jpg', 'DSC_0254tamp10.jpg', 'DSC_1716tamp7.jpg', 'DSC_0215_01tamp13.jpg', 'DSC_1045_scale.jpg', 'DSC_0627_scale.jpg', 'sony_61tamp3.jpg', 'DSC_0142_scale.jpg', 'IMG_2994_scale.jpg', 'DSC_1811_scale.jpg', 'P1020728_scale.jpg', 'DSCF0278_scale.jpg', 'DSCF1248tamp8.jpg', 'IMG_3678_scale.jpg', 'DSCF0018tamp4.jpg', 'PA260231_scale.jpg', 'PC190612_scale.jpg', 'DSC_0264tamp8.jpg', 'DSC_0201_01_scale.jpg', 'DSC_0113_scale.jpg', 'DSC_0013_01tamp4.jpg', 'DSC01640tamp7.jpg', 'DSC_0019_01_scale.jpg', 'DSCF1853tamp10.jpg', 'DSC_0812tamp7.jpg', 'DSC_1540tamp6.jpg', 'DSC_1568tamp4.jpg', 'DSC_0111_01_scale.jpg', 'DSCF0670tamp8.jpg', 'DSCF1337_scale.jpg', 'DSC_0067_01_scale.jpg', 'DSC_1412_scale.jpg', 'DSC_0153tamp8.jpg', 'IMG_4394_scale.jpg', 'DSC_0349_scale.jpg', 'IMG_2688_scale.jpg', 'DSC_0013_01tamp13.jpg', 'P1020690_scale.jpg', 'DSC_0413_scale.jpg', 'DSC_0334_scale.jpg', 'DSC_1603_scale.jpg', 'DSCN41tamp13.jpg', 'DSCF8tamp14.jpg', 'DSC_0254_scale.jpg', 'IMG_2656_scale.jpg', 'DSC_0215_01tamp14.jpg', 'DSCF1337tamp6.jpg', 'P6300099tamp13.jpg', 'DSC_0141_scale.jpg', 'DSCN2329tamp13.jpg', 'DSC_0596_scale.jpg', 'DSC_1224_scale.jpg', 'sony_61tamp7.jpg', 'DSCF18tamp11.jpg', 'IMG_2252_scale.jpg', 'DSCF0201tamp10.jpg', 'DSC_0477_scale.jpg', 'DSC_0240_scale.jpg', 'DSC_1535tamp3.jpg', 'DSCN2329tamp7.jpg', 'DSC_1568tamp10.jpg', 'DSC_0178_scale.jpg', 'DSC_1138_scale.jpg', 'DSC_1416_scale.jpg', 'DSCN41tamp4.jpg', 'DSCF1248tamp2.jpg', 'DSC01176tamp8.jpg', 'DSCF1337tamp10.jpg', 'DSCF0670tamp4.jpg', 'IMG_2512_scale.jpg', 'P1020751_scale.jpg', 'IMG_2185_scale.jpg', 'DSC_1568tamp2.jpg', 'DSC_0283_scale.jpg', 'DSCF18tamp9.jpg', 'DSC_0177_01_scale.jpg', 'DSC_0409tamp5.jpg', 'DSC_0238_scale.jpg', '00007tamp11.jpg', 'DSC01172_scale.jpg', 'DSC_0215_01_scale.jpg', '00034_scale.jpg', 'DSC_1609_scale.jpg', 'P1020818_scale.jpg', 'DSCF0201tamp7.jpg', 'DSC_0195_scale.jpg', 'P1000231tamp8.jpg', 'DSC_0331_scale.jpg', 'DSC_1359_scale.jpg', 'DSC_1540tamp13.jpg', 'P1020793_scale.jpg', 'DSCN41tamp7.jpg', 'DSCF0201tamp5.jpg', 'DSC_0221_scale.jpg', 'DSC_1426_scale.jpg', 'DSC_0048_01_scale.jpg', 'DSC_0328_scale.jpg', 'DSC_0577_scale.jpg', 'IMG_2505_scale.jpg', 'IMG_2421_scale.jpg', 'DSCF1248tamp9.jpg', '00006_scale.jpg', 'P1000472tamp5.jpg', 'DSCF0202_scale.jpg', 'DSC_0812tamp9.jpg', 'DSCF1337tamp3.jpg', 'DSC_0119_scale.jpg', 'P8020513_scale.jpg', 'DSC_0063_01_scale.jpg', 'DSC_0264tamp7.jpg', 'DSC_0105_scale.jpg', 'DSC_0642_scale.jpg', 'DSC_0163_01_scale.jpg', 'DSC_0097tamp12.jpg', 'P7030182_scale.jpg', '00007tamp13.jpg', 'P7290459_scale.jpg', 'P1000472tamp4.jpg', 'IMG_2203_scale.jpg', 'DSC_1016_scale.jpg', 'DSC_0376_scale.jpg', 'P1000293tamp4.jpg', 'DSC_0329_scale.jpg', 'DSC_1235_scale.jpg', 'DSC_0055_01tamp2.jpg', 'DSC_0741_scale.jpg', 'DSC_0300_scale.jpg', 'DSC_1535tamp8.jpg', 'DSC_1267_scale.jpg', 'DSC_1316_scale.jpg', 'DSC_0618_scale.jpg', 'DSC_0254tamp9.jpg', 'DSCF0219_scale.jpg', 'DSC_1811tamp5.jpg', 'P1000231tamp3.jpg', 'P1020720_scale.jpg', 'P1000231tamp4.jpg', 'sony_61tamp6.jpg', 'DSC01185_scale.jpg', 'DSC_0100_01_scale.jpg', 'DSC_0585_scale.jpg', 'DSCF0211_scale.jpg', 'DSC_0090_01_scale.jpg', 'DSC_0124_scale.jpg', 'DSC_0653_scale.jpg', 'P7050226_scale.jpg', 'DSC_0242_01tamp4.jpg', 'DSCF8tamp4.jpg', 'P6040369_scale.jpg', 'DSC_0258tamp14.jpg', 'DSC_1943_scale.jpg', 'IMG_2414_scale.jpg', 'DSC_0016_01_scale.jpg', 'DSC_0767_scale.jpg', 'DSC_1060_scale.jpg', '00007tamp14.jpg', 'DSC_0129_01_scale.jpg', 'DSC_0412_scale.jpg', 'P1020773_scale.jpg', 'DSC_0185_scale.jpg', 'DSC_0145_01_scale.jpg', 'DSCF0201tamp11.jpg', 'DSC_0279tamp13.jpg', 'DSC_0236_01_scale.jpg', 'DSC_0266_scale.jpg', 'DSC01626_scale.jpg', 'DSCN2329tamp12.jpg', 'DSCF0018tamp8.jpg', 'DSC_1177_scale.jpg', 'DSC_1568tamp3.jpg', 'DSC_0198_scale.jpg', 'P7290459tamp11.jpg', 'DSC_1203_scale.jpg', 'DSC_0654_scale.jpg', 'P1000293tamp8.jpg', 'DSC_0743_scale.jpg', 'P1020729_scale.jpg', 'DSC_0409tamp1.jpg', 'DSCF0670tamp10.jpg', 'IMG_2635_scale.jpg', 'DSC_0097tamp8.jpg', 'P6300099tamp9.jpg', 'P1020812_scale.jpg', 'DSC_0215_01tamp2.jpg', 'DSC_0034_01_scale.jpg', 'DSCF1260tamp14.jpg', 'nikon_7tamp3.jpg', 'DSC_0736_scale.jpg', 'DSC_0013_01tamp14.jpg', 'DSC_0290_scale.jpg', 'DSC_0160_scale.jpg', 'P1000231tamp7.jpg', 'DSC_0236_scale.jpg', 'DSCN47_scale.jpg', 'DSC_1540tamp9.jpg', 'DSC_0371_scale.jpg', 'DSC_0409tamp9.jpg', 'P1020682_scale.jpg', 'DSC_1018_scale.jpg', 'DSC_0812tamp12.jpg', 'DSCF0170tamp6.jpg', 'DSC_0992_scale.jpg', 'DSC_0812tamp11.jpg', 'P1000528_scale.jpg', 'IMG_2682_scale.jpg', 'PA270275_scale.jpg', 'DSC_1020_scale.jpg', 'PC190612tamp12.jpg', 'DSC_0149_01_scale.jpg', 'PA260237tamp1.jpg', 'IMG_2310_scale.jpg', 'DSCF18tamp7.jpg', 'PC190130_scale.jpg', 'DSC_0070_01_scale.jpg', 'DSC_0738_scale.jpg', 'DSC_0081_scale.jpg', 'P4120010_scale.jpg', 'DSC_0242_01tamp10.jpg', 'sony_61_scale.jpg', 'DSC_0535tamp12.jpg', 'DSC_0605_scale.jpg', 'DSC_0218_scale.jpg', '00032_scale.jpg', 'DSC_0108_scale.jpg', 'nikon_7tamp8.jpg', 'DSC01176tamp10.jpg', 'DSC_0055_01tamp3.jpg', 'DSC_0342_scale.jpg', 'DSC_0284_scale.jpg', 'DSCF1248tamp3.jpg', 'DSC01640tamp2.jpg', 'DSCN41tamp3.jpg', 'DSC_0336_scale.jpg', 'DSC01176tamp7.jpg', 'DSC_0409tamp12.jpg', 'DSC_1207_scale.jpg', 'DSCF0259_scale.jpg', 'DSC_1033_scale.jpg', 'P1020815_scale.jpg', 'DSCF0170tamp9.jpg', 'P1000472tamp1.jpg', 'DSC_1263_scale.jpg', 'P7290459tamp14.jpg', 'DSCF0204_scale.jpg', '00007tamp9.jpg', 'DSC_1540tamp10.jpg', 'DSC_1028_scale.jpg', 'DSCN41tamp2.jpg', 'DSCF0170_scale.jpg', 'DSC_0473_scale.jpg', 'IMG_2207_scale.jpg', 'DSC_0200_scale.jpg', 'P6040359_scale.jpg', 'DSC_0672_scale.jpg', 'DSC_0586_scale.jpg', 'P1000293tamp1.jpg', 'DSC_0103_01_scale.jpg', 'P1020789_scale.jpg', 'DSC_0415_scale.jpg', 'P7290459tamp12.jpg', '00009_scale.jpg', 'DSC_0153tamp1.jpg', 'DSC_1943tamp10.jpg', 'DSC_0097tamp9.jpg', 'DSC_0104_01_scale.jpg', 'DSCF1853tamp7.jpg', 'PA270260_scale.jpg', 'DSC_0264tamp13.jpg', 'DSC_1216_scale.jpg', 'DSC_0282_scale.jpg', 'P8030523_scale.jpg', 'PA260237tamp7.jpg', 'IMG_2516_scale.jpg', 'DSC_0613_scale.jpg', 'DSC01201_scale.jpg', 'PA260237tamp5.jpg', 'P1000293tamp12.jpg', 'P1020702_scale.jpg', 'P1020813_scale.jpg', 'DSC_0279tamp2.jpg', 'DSCF0263_scale.jpg', 'DSC_1535tamp14.jpg', 'DSC_0276_scale.jpg', 'IMG_2391_scale.jpg', 'DSC_0643_scale.jpg', 'DSC_1277_scale.jpg', 'DSC_0646_scale.jpg', 'DSCF1260tamp8.jpg', 'DSC_0335_scale.jpg', 'PC190612tamp1.jpg', 'DSC01203_scale.jpg', 'DSCF1853tamp4.jpg', 'DSCF1337tamp12.jpg', 'brasimone006_scale.jpg', 'brasimone002_scale.jpg', 'DSC_1716tamp10.jpg', 'DSC_0102_01_scale.jpg', '00003_2_scale.jpg', 'DSCF0201tamp14.jpg', 'IMG_2151_scale.jpg', 'DSC_0409tamp4.jpg', 'DSC_1260_scale.jpg', 'DSCF0018tamp6.jpg', 'DSC_0126_scale.jpg', 'DSC_0215_01tamp8.jpg', 'DSCF0670tamp5.jpg', 'DSC_1214_scale.jpg', 'DSCF8tamp7.jpg', 'P1020685_scale.jpg', 'P4120010tamp7.jpg', 'DSC_1222_scale.jpg', 'DSC_0648tamp14.jpg', 'DSC_0651_scale.jpg', 'DSC_0198_01_scale.jpg', 'P1020031_scale.jpg', 'DSC_0241_scale.jpg', 'DSCN47tamp9.jpg', 'DSC_0175_scale.jpg', 'DSC_1348_scale.jpg', 'DSC_0066_01_scale.jpg', 'brasimone008_scale.jpg', 'P1020700_scale.jpg', 'DSC_1062_scale.jpg', 'DSC_0483_scale.jpg', 'DSC_0215_01tamp1.jpg', 'DSC_0759_scale.jpg', 'DSC_0077_scale.jpg', 'P6130410_scale.jpg', 'DSC_0164_scale.jpg', 'DSC_0648tamp11.jpg', 'DSCF1260tamp4.jpg', 'DSC_1017_scale.jpg', 'P7110171_scale.jpg', 'DSC_0212_scale.jpg', 'DSC_1103_scale.jpg', 'DSC_0087_01_scale.jpg', 'P1020767_scale.jpg', 'P7160128_scale.jpg', 'DSCF0244_scale.jpg', 'DSC_0215tamp8.jpg', 'DSCF1260tamp3.jpg', 'DSC_1540tamp3.jpg', 'DSC_0217_scale.jpg', 'DSC_0460_scale.jpg', 'P6300109_scale.jpg', 'DSC_1811tamp4.jpg', 'P1020689_scale.jpg', 'DSC_0631_scale.jpg', 'P1020745_scale.jpg', 'DSC_0097tamp2.jpg', 'DSC_1568tamp7.jpg', 'IMG_2643_scale.jpg', '00011_2_scale.jpg', 'DSC_0097tamp4.jpg', 'IMG_2619_scale.jpg', 'DSC_0747_scale.jpg', 'IMG_3009_scale.jpg', 'DSC_0965_scale.jpg', 'DSCN50_scale.jpg', 'nikon_7tamp5.jpg', 'IMG_2240_scale.jpg', 'DSC_0626_scale.jpg', 'DSC_1178_scale.jpg', 'IMG_2373_scale.jpg', 'DSC_0035_01_scale.jpg', 'IMG_2230_scale.jpg', 'IMG_2569_scale.jpg', 'DSC_1211_scale.jpg', 'DSC_1363_scale.jpg', 'IMG_2417_scale.jpg', 'DSC_1226_scale.jpg', 'DSC_1148_scale.jpg', 'DSC_1175_scale.jpg', 'DSC_0153tamp3.jpg', 'DSC_1054_scale.jpg', 'DSC_1197_scale.jpg', 'DSC_1540_scale.jpg', 'DSC_0640_scale.jpg', 'P4120010tamp10.jpg', 'DSC_0424_scale.jpg', 'DSC_0093_01_scale.jpg', '00014_scale.jpg', 'DSC_0264tamp4.jpg', 'P1020768_scale.jpg', 'DSC_1123_scale.jpg', '00001_2_scale.jpg', 'DSC_0440_scale.jpg', 'DSC_0173_scale.jpg', 'DSC_0215_scale.jpg', 'DSC_0580_scale.jpg', 'IMG_2262_scale.jpg', 'DSC01640_scale.jpg', 'IMG_2642_scale.jpg', 'IMG_2993_scale.jpg', 'DSC_1253_scale.jpg', 'PA260230_scale.jpg', 'DSC_0148_01_scale.jpg', 'PA260229_scale.jpg', 'DSC_0564_scale.jpg', 'DSC_0628_scale.jpg', 'sony_61tamp12.jpg', 'IMG_2611_scale.jpg', 'DSC_0146_01_scale.jpg', 'P7310182tamp6.jpg', 'P1020727_scale.jpg', 'P1020710_scale.jpg', 'IMG_3647_scale.jpg', 'P1000231tamp10.jpg', 'nikon_7tamp10.jpg', 'P6300125_scale.jpg', 'P6300096_scale.jpg', 'DSC_0097tamp11.jpg', 'DSC_0535tamp9.jpg', 'P1000472tamp2.jpg', 'P1020688_scale.jpg', 'IMG_2201_scale.jpg', 'DSC_0535tamp1.jpg', 'DSC_1145_scale.jpg', 'IMG_3005_scale.jpg', 'DSC01180_scale.jpg', 'IMG_2407_scale.jpg', 'IMG_2684_scale.jpg', 'DSC_0409tamp14.jpg', 'P6300092_scale.jpg', 'DSCF0177_scale.jpg', 'DSC_0188_scale.jpg', 'DSC_0263_01_scale.jpg', 'P1000472tamp13.jpg', 'DSC_0772_scale.jpg', 'DSC_0014_01_scale.jpg', 'P1000293tamp13.jpg', 'P1000293_scale.jpg', 'DSC_1361_scale.jpg', 'P1020734_scale.jpg', 'IMG_2925_scale.jpg', 'DSC_0123_01_scale.jpg', 'DSC_0030_01_scale.jpg', 'DSC_1943tamp11.jpg', 'DSC_1305_scale.jpg', 'DSC_0771_scale.jpg', 'DSC_0159_01_scale.jpg', 'P6300091_scale.jpg', 'DSCF0170tamp1.jpg', 'DSC_0128_scale.jpg', 'DSC_0096_scale.jpg', 'DSCF0670tamp1.jpg', '00006_2_scale.jpg', 'DSC_0330_scale.jpg', 'DSC_0242_01tamp2.jpg', 'DSC_1716_scale.jpg', 'DSC_1142_scale.jpg', 'DSC_1027_scale.jpg', 'DSC_0985_scale.jpg', 'DSC_0215_01tamp4.jpg', 'DSC_0146_scale.jpg', 'DSC01172tamp11.jpg', 'DSCF1853tamp5.jpg', 'DSC_0648tamp5.jpg', 'DSC_0117_01_scale.jpg', 'DSC_1716tamp6.jpg', 'DSC_1811tamp14.jpg', 'DSC_1255_scale.jpg', 'DSCF0201tamp8.jpg', 'IMG_2932_scale.jpg', 'P1020737_scale.jpg', 'DSCF0018tamp11.jpg', 'DSC_0085_01_scale.jpg', 'DSC_0647_scale.jpg', 'DSC_0082_scale.jpg', '00007tamp2.jpg', 'DSC_0669_scale.jpg', 'DSC_0458_scale.jpg', 'DSC_0411_scale.jpg', 'P1020714_scale.jpg', 'DSCN47tamp7.jpg', 'DSC_1340_scale.jpg', 'P8040559_scale.jpg', 'Immagine001_scale.jpg', 'DSC_0024_01_scale.jpg', 'DSC_0377_scale.jpg', 'DSC_0215_01tamp10.jpg', 'DSCN2329tamp14.jpg', 'DSC_0775_scale.jpg', 'PA270271_scale.jpg', 'DSC_1044_scale.jpg', 'DSCF1260tamp13.jpg', 'P6300099tamp1.jpg', 'DSC_1425_scale.jpg', 'DSC_0234_scale.jpg', 'P1020725_scale.jpg', 'DSC_0153tamp10.jpg', 'IMG_3589_scale.jpg', 'DSC_1600_scale.jpg', '00016_scale.jpg', 'DSC01195_scale.jpg', 'DSC_1023_scale.jpg', 'P6300085_scale.jpg', 'DSCN2329tamp1.jpg', '00007tamp12.jpg', 'DSCF8tamp8.jpg', 'DSCN47tamp2.jpg', 'P1020726_scale.jpg', 'DSC_1245_scale.jpg', 'IMG_2665_scale.jpg', 'DSC_0228_scale.jpg', 'DSC_1125_scale.jpg', 'DSC_0174_01_scale.jpg', 'DSC_0248_01_scale.jpg', 'P7020149_scale.jpg', 'DSCN47tamp13.jpg', 'DSC_0427_scale.jpg', 'DSC_1122_scale.jpg', 'P1020742_scale.jpg', 'PA260237tamp8.jpg', '00004_scale.jpg', 'DSC_0153_01_scale.jpg', 'DSC_1608_scale.jpg', 'P1000472tamp12.jpg', 'nikon_7tamp6.jpg', 'DSC_0055_01tamp14.jpg', 'DSC_0978_scale.jpg', 'DSCF0132_scale.jpg', 'IMG_2935_scale.jpg', 'DSC_0552_scale.jpg', 'DSC_0106_scale.jpg', 'P1020780_scale.jpg', 'DSC_1716tamp11.jpg', 'sony_61tamp8.jpg', 'DSC_1424_scale.jpg', 'DSC_1204_scale.jpg', 'P1000231tamp11.jpg', 'DSC_0180_scale.jpg', 'P1020820_scale.jpg', 'DSC_0193_scale.jpg', 'IMG_3602_scale.jpg', 'P1020804_scale.jpg', 'P1000231tamp2.jpg', 'DSC_0226_scale.jpg', 'DSC02215_scale.jpg', 'DSC_0341_scale.jpg', 'DSC_0215_01tamp12.jpg', 'P7290459tamp7.jpg', 'DSC_0235_01_scale.jpg', 'DSCF0170tamp2.jpg', 'DSC_0648tamp13.jpg', 'IMG_2328_scale.jpg', 'IMG_2383_scale.jpg', 'IMG_2336_scale.jpg', 'DSC_0581_scale.jpg', 'DSC_0414_scale.jpg', 'P1020716_scale.jpg', 'DSC_0132_scale.jpg', 'DSC_0215tamp14.jpg', 'DSC01199_scale.jpg', 'DSC_0154_scale.jpg', 'DSC_0017_01_scale.jpg', 'DSC_1811tamp6.jpg', 'DSC_0033_scale.jpg', 'IMG_3617_scale.jpg', 'DSC_0128_01_scale.jpg', 'DSC_0264tamp14.jpg', 'DSC_1716tamp8.jpg', 'DSC_1248_scale.jpg', 'P7010129_scale.jpg', 'DSCF1260tamp6.jpg', 'DSC_0254tamp1.jpg', 'DSC_1342_scale.jpg', '00016_2_scale.jpg', 'DSCF0277_scale.jpg', 'DSC_0046_01_scale.jpg', 'DSC01640tamp13.jpg', 'PC190612tamp11.jpg', 'IMG_2591_scale.jpg', 'P3270318_scale.jpg', 'DSC_0337_scale.jpg', 'DSC_1025_scale.jpg', 'DSC01171_scale.jpg', 'DSC_0243_01_scale.jpg', 'DSC_0013_01tamp1.jpg', 'DSC_0215_01tamp3.jpg', '00007tamp3.jpg', 'IMG_2208_scale.jpg', 'P1020788_scale.jpg', 'DSCN41tamp11.jpg', 'P7150092_scale.jpg', 'P4130064_scale.jpg', 'DSC_0133_01_scale.jpg', 'IMG_3657_scale.jpg', 'DSC_0224_scale.jpg', 'DSC_0407_scale.jpg', 'DSC_0239_01_scale.jpg', 'P6300099tamp14.jpg', 'DSC_0648tamp9.jpg', 'DSC_0104_scale.jpg', 'DSCF0200_scale.jpg', 'DSC_0616_scale.jpg', 'DSC01173_scale.jpg', 'DSC_0055_01tamp12.jpg', 'DSC_0077_01_scale.jpg', 'DSC_0037_01_scale.jpg', 'DSC_0258tamp5.jpg', 'DSC_0761_scale.jpg', 'sony_61tamp2.jpg', 'DSC_0588_scale.jpg', 'IMG_2973_scale.jpg', 'DSC_0262_scale.jpg', 'P1020697_scale.jpg', 'DSC_0812tamp2.jpg', 'DSCF18tamp10.jpg', 'DSC_0535tamp11.jpg', 'PA260217_scale.jpg', 'IMG_2394_scale.jpg', 'DSC_0075_01_scale.jpg', 'DSC_0215_01tamp6.jpg', 'P1000472tamp6.jpg', 'DSC_1011_scale.jpg', 'DSCF0220_scale.jpg', 'DSC_1218_scale.jpg', 'PA270273_scale.jpg', 'IMG_2692_scale.jpg', 'P1020680_scale.jpg', 'DSC_1271_scale.jpg', 'P1000293tamp3.jpg', 'DSCF0670tamp11.jpg', 'DSC_0648_scale.jpg', 'P1020790_scale.jpg', 'P3270332_scale.jpg', 'DSC_0013_01tamp10.jpg', 'DSC_0264tamp6.jpg', 'DSC_0215tamp9.jpg', 'DSC_0757_scale.jpg', 'DSC_0173_01_scale.jpg', 'DSC_0970_scale.jpg', 'DSC_0175_01_scale.jpg', 'DSC_1012_scale.jpg', 'DSC_0153_scale.jpg', 'P6300099tamp11.jpg', 'DSC_0191_01_scale.jpg', 'DSC_1943tamp4.jpg', 'P1020764_scale.jpg', 'DSC_1280_scale.jpg', 'P1020808_scale.jpg', 'DSC_1811tamp9.jpg', 'IMG_3662_scale.jpg', 'P1000528tamp7.jpg', 'P1020748_scale.jpg', 'IMG_2689_scale.jpg', 'DSCN2329tamp10.jpg', 'DSC_0254tamp8.jpg', 'DSC_1540tamp11.jpg', 'P7310182tamp12.jpg', 'DSC_0673_scale.jpg', 'DSC_1568tamp14.jpg', 'DSC_1259_scale.jpg', 'DSC_1716tamp3.jpg', 'DSC_0258tamp7.jpg', 'DSC_0242_01tamp5.jpg', 'DSC_0038_01_scale.jpg', 'DSC_0760_scale.jpg', 'DSCF1260tamp2.jpg', 'PA260237tamp10.jpg', 'DSC_0153tamp6.jpg', 'DSC_0189_scale.jpg', 'DSC_0242_01tamp11.jpg', 'DSC_1174_scale.jpg', 'DSC_1406_scale.jpg', 'PA260237tamp3.jpg', 'DSC_1270_scale.jpg', 'DSC_1568tamp1.jpg', 'DSC_0055_01tamp1.jpg', 'DSC_1127_scale.jpg', 'DSC_0235_scale.jpg', 'DSC_0187_scale.jpg', 'DSC_0598_scale.jpg', '00009_2_scale.jpg', 'DSC_1611_scale.jpg', 'DSCF0258_scale.jpg', 'DSCF1260tamp1.jpg', 'DSC_0254tamp14.jpg', 'P4120010tamp9.jpg', 'DSC_0409tamp6.jpg', 'DSC_1313_scale.jpg', 'P1020821_scale.jpg', 'P1020696_scale.jpg', 'DSC_0065_01_scale.jpg', 'DSCF1337tamp11.jpg', 'P7160127_scale.jpg', 'P7020161_scale.jpg', 'DSC_0734_scale.jpg', 'DSCN41tamp8.jpg', 'DSC_0745_scale.jpg', 'DSC_0670_scale.jpg', 'P6300099tamp7.jpg', 'DSC_0220_01_scale.jpg', 'DSC_0535tamp6.jpg', 'DSC01640tamp9.jpg', 'DSC01193_scale.jpg', 'DSC_0622_scale.jpg', 'DSC_0416_scale.jpg', 'IMG_3007_scale.jpg', 'DSCF0170tamp7.jpg', 'DSC_0610_scale.jpg', 'DSC_0096_01_scale.jpg', 'P1020692_scale.jpg', 'DSC_0197_scale.jpg', 'PA270280_scale.jpg', 'DSC_1031_scale.jpg', 'DSCF0018tamp14.jpg', 'DSC_0215_01tamp9.jpg', 'IMG_2519_scale.jpg', 'DSC_0200_01_scale.jpg', 'DSC_0150_scale.jpg', 'DSC_0140_01_scale.jpg', 'P1000293tamp2.jpg', 'DSC_0913_scale.jpg', 'DSC_1040_scale.jpg', 'nikon_7tamp9.jpg', 'DSC_1352_scale.jpg', 'P1020708_scale.jpg', 'DSC_0541_scale.jpg', 'DCAM0024_scale.jpg', 'DSCF0018tamp2.jpg', 'DSC_0097tamp6.jpg', 'DSC_0671_scale.jpg', 'P7030224_scale.jpg', 'DSC_0202_01_scale.jpg', 'DSC_0279tamp4.jpg', 'P1020687_scale.jpg', 'DSCN41tamp6.jpg', 'DSC_0535tamp7.jpg', 'DSC_0261_01_scale.jpg', 'DSC_0915_scale.jpg', 'brasimone009_scale.jpg', 'DSC_0812tamp5.jpg', 'DSC_0144_01_scale.jpg', 'P1020693_scale.jpg', 'DSC_1356_scale.jpg', 'DSC_0013_01tamp8.jpg', 'DSC_0055_01tamp7.jpg', 'P7310182tamp13.jpg', 'IMG_2568_scale.jpg', 'DSC_1345_scale.jpg', 'DSC_1307_scale.jpg', 'DSC_0151_01_scale.jpg', 'P7030222_scale.jpg', 'DSCN47tamp4.jpg', 'DSC_1350_scale.jpg', 'DSC_0082_01_scale.jpg', 'IMG_2929_scale.jpg', 'DSC_1287_scale.jpg', 'DSC_0215tamp6.jpg', 'DSC_1605_scale.jpg', 'DSCF0670tamp3.jpg', 'DSC_0254tamp4.jpg', 'DSC_0258tamp9.jpg', 'DSC_0254tamp12.jpg', 'DSC_0106_01_scale.jpg', 'DSC_0535tamp8.jpg', 'DSC_1057_scale.jpg', 'DSC_0084_01_scale.jpg', 'DSC_1100_scale.jpg', 'DSCF1248tamp7.jpg', 'DSC01170_scale.jpg', 'DSC_0567_scale.jpg', 'DSC_1943tamp1.jpg', 'sony_61tamp5.jpg', 'DSC_0055_01tamp13.jpg', 'DSC_0154_01_scale.jpg', 'DSC_0251_01_scale.jpg', 'DSC_0409tamp8.jpg', 'DSCF0170tamp14.jpg', 'DSC_1186_scale.jpg', 'P1020801_scale.jpg', 'P1000293tamp14.jpg', 'DSC_0013_01tamp9.jpg', 'DSC_1150_scale.jpg', 'P7020160_scale.jpg', 'P6300089_scale.jpg', 'P1020766_scale.jpg', 'DSC_0209_scale.jpg', 'DSC_0252_01_scale.jpg', 'P1020802_scale.jpg', 'P7310182tamp2.jpg', 'DSCF1337tamp14.jpg', 'DSC_0011_01_scale.jpg', 'P6300099tamp6.jpg', 'DSCF0201tamp12.jpg', 'DSC_0617_scale.jpg', 'DSC_0013_01tamp12.jpg', 'DSC_1176_scale.jpg', 'DSC_0225_scale.jpg', 'DSCF18tamp13.jpg', 'DSC_0182_01_scale.jpg', 'DSC01174_scale.jpg', 'P6300099tamp8.jpg', 'P1000293tamp7.jpg', 'DSC_0753_scale.jpg', 'P1020723_scale.jpg', 'DSCF1260_scale.jpg', 'DSC_1535tamp2.jpg', 'DSC_0966_scale.jpg', 'DSC_0535tamp5.jpg', '00032_2_scale.jpg', 'DSC_0258tamp2.jpg', 'DSC_0137_scale.jpg', 'DSC_0495_scale.jpg', 'groundtruthDB_2000.txt', 'DSC_0535tamp10.jpg', 'DSC_0319_scale.jpg', 'P7020151_scale.jpg', 'DCAM0202_scale.jpg', 'P1020721_scale.jpg', 'DSCF0018tamp9.jpg', 'DSC_1405_scale.jpg', 'DSC_0242_01tamp6.jpg', 'P1020701_scale.jpg', 'DSCF0201tamp1.jpg', 'DSCN2329tamp6.jpg', 'DSC_0302_scale.jpg', 'DSC_1265_scale.jpg', 'DSC_1227_scale.jpg', 'P4120018_scale.jpg', 'DSC_0013_01tamp11.jpg', 'DSC_0145_scale.jpg', 'DSCF1260tamp10.jpg', 'DSC_0758_scale.jpg', 'P3270326_scale.jpg', 'DSC01172tamp13.jpg', 'DSC01204_scale.jpg', 'DSC01172tamp8.jpg', 'DSC_1220_scale.jpg', 'DSCF0230_scale.jpg', 'IMG_2607_scale.jpg', 'DSC01640tamp12.jpg', 'DSC_0735_scale.jpg', 'DSC_0153tamp13.jpg', 'DSC_1104_scale.jpg', 'DSC_0055_01tamp9.jpg', 'DSC_0215_01tamp7.jpg', 'P7030187_scale.jpg', 'DSC_0358_scale.jpg', 'P6300099tamp2.jpg', 'P1020778_scale.jpg', 'DSC_0134_scale.jpg', 'DSC_1201_scale.jpg', 'DSC_0636_scale.jpg', 'P1000528tamp2.jpg', 'P3270320_scale.jpg', 'P1000472tamp3.jpg', 'DSC01640tamp1.jpg', 'IMG_3008_scale.jpg', 'DSC_0812tamp8.jpg', 'DSC_0177_scale.jpg', 'DSC_0242_01tamp7.jpg', '00031_2_scale.jpg', 'DSC_0490_scale.jpg', 'P7020152_scale.jpg', 'DSCF0201tamp3.jpg', 'DSC_0143_scale.jpg', 'DSCF0170tamp8.jpg', 'DSC_1231_scale.jpg', 'IMG_2313_scale.jpg', 'DSC_1535tamp11.jpg', 'DSC_0097tamp14.jpg', 'DSC_0258tamp3.jpg', 'DSC_1236_scale.jpg', 'DSC01172tamp3.jpg', 'DSC_0092_01_scale.jpg', 'P1000528tamp1.jpg', 'DSC_0378_scale.jpg', 'P1020715_scale.jpg', 'P1020712_scale.jpg', 'DSC_0097_01_scale.jpg', 'DSC_1568tamp5.jpg', 'DSC_0261_scale.jpg', 'P6300099_scale.jpg', 'DSC_0243_scale.jpg', 'DSC_0176_01_scale.jpg', 'P7310182tamp7.jpg', 'DSC_1213_scale.jpg', 'DSC_0055_01tamp5.jpg', 'DSC_0242_01_scale.jpg', 'DSC01176tamp14.jpg', 'DSC_1716tamp14.jpg', 'DSC_1179_scale.jpg', 'DSCF1260tamp5.jpg', 'DSC_1239_scale.jpg', 'DSC01172tamp4.jpg', 'IMG_2395_scale.jpg', 'DSC_1238_scale.jpg', 'P1020713_scale.jpg', 'IMG_2144_scale.jpg', 'DSCF0064_scale.jpg', 'DSC_0770_scale.jpg', 'DSCN41_scale.jpg', 'DSC01172tamp2.jpg', 'DSC_1943tamp5.jpg', 'DSC_0058_01_scale.jpg', 'DSC_0215tamp4.jpg', 'IMG_2977_scale.jpg', 'DSC_0153tamp7.jpg', 'DSC_0138_scale.jpg', 'DSC_1598_scale.jpg', 'Immagine013_scale.jpg', 'IMG_2191_scale.jpg', 'DSC_0298_scale.jpg', 'DSC_1811tamp1.jpg', 'DSCF0243_scale.jpg', 'DSC_0648tamp1.jpg', 'DSC_0591_scale.jpg', 'DSCF1337tamp2.jpg', 'DSCF0227_scale.jpg', 'DSC_0099_scale.jpg', 'DSC_1134_scale.jpg', 'P1020724_scale.jpg', 'DSC_1262_scale.jpg', 'DSC_0215_01tamp5.jpg', 'P1020758_scale.jpg', 'DSC_0055_01tamp10.jpg', '00018_2_scale.jpg', '00010_2_scale.jpg', 'DSC_0249_scale.jpg', 'DSC_0230_scale.jpg', 'DSC_1317_scale.jpg', 'PC050594_scale.jpg', 'PA260237tamp13.jpg', 'DSC_0579_scale.jpg', 'DSC_1568tamp12.jpg', 'DSC_1185_scale.jpg', 'DSC_1036_scale.jpg', 'DSC_0344_scale.jpg', 'DSC_1251_scale.jpg', 'P1020717_scale.jpg', 'IMG_3679_scale.jpg', 'P1020794_scale.jpg', 'DSC_0648tamp4.jpg', 'P1020756_scale.jpg', 'DSC_0007_01_scale.jpg', 'DSC_0491_scale.jpg', 'DSC_1943tamp6.jpg', 'DSC_1225_scale.jpg', 'DSCN41tamp12.jpg', 'DSC_0215tamp13.jpg', 'IMG_2582_scale.jpg', 'P1020722_scale.jpg', '00014_2_scale.jpg', 'DSC_1423_scale.jpg', 'DSC01198_scale.jpg', 'DSC_0614_scale.jpg', 'DSC_0277_scale.jpg', 'DSCF0035_scale.jpg', 'IMG_2513_scale.jpg', 'P1000293tamp5.jpg', 'DSC_1417_scale.jpg', 'DSC_0013_01tamp2.jpg', 'DSC_1024_scale.jpg', 'DSC_0749_scale.jpg', 'DSC_0763_scale.jpg', 'P1020032_scale.jpg', 'DSC_1811tamp7.jpg', 'DSC_1124_scale.jpg', 'DSC_0149_scale.jpg', 'IMG_2936_scale.jpg', 'DSC_1279_scale.jpg', 'DSC_0258tamp10.jpg', 'IMG_3011_scale.jpg', 'DSC_0217_01_scale.jpg', 'DSC_0648tamp2.jpg', 'DSC_1602_scale.jpg', 'DSC_0069_scale.jpg', 'DSC_0625_scale.jpg', 'DSC_0153tamp2.jpg', 'IMG_2333_scale.jpg', 'PC190612tamp4.jpg', 'P4120010tamp1.jpg', 'DSC01640tamp5.jpg', 'DSC_0409_scale.jpg', 'DSC_0570_scale.jpg', 'DSC_0215tamp5.jpg', 'DSCF0201_scale.jpg', 'DSC_0554_scale.jpg', 'DSC_0258tamp4.jpg', 'DSC_0045_01_scale.jpg', 'brasimone005_scale.jpg', 'P1020695_scale.jpg', 'DSC_0188_01_scale.jpg', 'DSC_1422_scale.jpg', '00035_scale.jpg', 'P1020759_scale.jpg', 'DSC_0013_01tamp3.jpg', 'DSC_0242_01tamp14.jpg', 'DSC_0088_01_scale.jpg', 'DSC_1205_scale.jpg', 'DSC_0812tamp14.jpg', 'DSC_0242_01tamp3.jpg', 'DSCF0018tamp13.jpg', 'DSC_0080_01_scale.jpg', 'P1020744_scale.jpg', 'DSC_0148_scale.jpg', 'nikon7_scale.jpg', 'IMG_2539_scale.jpg', 'DSC_0232_01_scale.jpg', '00030_2_scale.jpg', 'Immagine022_scale.jpg', 'DSC_1198_scale.jpg', 'DSCF0213_scale.jpg', 'DSC_0419_scale.jpg', 'DSC_1005_scale.jpg', 'DSC_0153tamp5.jpg', 'P1020779_scale.jpg', 'DSC_0153tamp4.jpg', 'DSC_0535tamp3.jpg', 'IMG_2163_scale.jpg', 'DSCF18tamp14.jpg', 'P6300099tamp12.jpg', 'DSC_0450_scale.jpg', 'DSC_1137_scale.jpg', 'DSC_1599_scale.jpg', 'DSC_0254tamp7.jpg', 'DSC_0258_scale.jpg', 'DSC_0648tamp10.jpg', 'DSC_0142_01_scale.jpg', 'P7290459tamp10.jpg', 'DSCN47tamp14.jpg', 'DSC_1141_scale.jpg', 'DSC_1147_scale.jpg', 'DSCF8tamp3.jpg', 'DSC_0409tamp13.jpg', 'DSC_0153tamp12.jpg', '00003_scale.jpg', 'DSC_0748_scale.jpg', 'DSCF0670tamp6.jpg', 'DSC_0233_01_scale.jpg', 'DSC_0437_scale.jpg', 'PA260237tamp9.jpg', 'DSC_0584_scale.jpg', 'DSC_1421_scale.jpg', 'DSCF1260tamp11.jpg', 'DSCF0670tamp2.jpg', 'DSC_0601_scale.jpg', 'DSC_0055_01tamp4.jpg', 'P1020810_scale.jpg', 'IMG_2938_scale.jpg', 'DSC_0432_scale.jpg', 'DSC_1030_scale.jpg', 'DSC_0199_scale.jpg', 'P7310182tamp14.jpg', 'DSC_1357_scale.jpg', 'DSC_1351_scale.jpg', 'DSC_1048_scale.jpg', 'IMG_2933_scale.jpg', 'P7310182tamp8.jpg', 'DSC_1811tamp12.jpg', 'P4120010tamp5.jpg', 'PC190612tamp6.jpg', 'DSC_0309_scale.jpg', 'P4120010tamp8.jpg', 'DSC_0021_01_scale.jpg', 'DSC_1312_scale.jpg', 'DSCF18tamp1.jpg', 'DSC_0812tamp1.jpg', 'P1020705_scale.jpg', 'P6040364_scale.jpg', 'DSC_1233_scale.jpg', 'DSC_0209_01_scale.jpg', 'IMG_2449_scale.jpg', 'DSC_0250_01_scale.jpg', 'DSC_1101_scale.jpg', 'DSC_0264_scale.jpg', 'DSCN41tamp1.jpg', 'DSCN2329tamp9.jpg', 'DSC_0812tamp3.jpg', 'P1020681_scale.jpg', 'DSC_0754_scale.jpg', '00012_2_scale.jpg', '00005_scale.jpg', 'DSC_1606_scale.jpg', 'P1020035_scale.jpg', 'DSC_0179_scale.jpg', 'DSCF18tamp3.jpg', 'icvss0839_scale.jpg', 'DSC_0098_01_scale.jpg', 'DSC_0431_scale.jpg', 'DSC_0069_01_scale.jpg', 'DSC_1243_scale.jpg', 'DSC_0015_01_scale.jpg', 'DSC01197_scale.jpg', '00007tamp6.jpg', 'P1020782_scale.jpg', 'DSC01169_scale.jpg', 'DSC01843_scale.jpg', 'IMG_2143_scale.jpg', 'IMG_2604_scale.jpg', 'DSC_1241_scale.jpg', 'DSC_0347_scale.jpg', 'DSCF0170tamp10.jpg', 'DSC01194_scale.jpg', 'DSC_1943tamp9.jpg', 'P7310182tamp9.jpg', 'P1020694_scale.jpg', 'DSC_1195_scale.jpg', 'DSC01177_scale.jpg', 'P1020781_scale.jpg', 'DSC_0127_01_scale.jpg', 'DSC01176tamp4.jpg', 'P1000472_scale.jpg', 'DSC_1250_scale.jpg', 'IMG_2573_scale.jpg', 'P1000293tamp6.jpg', 'DSC_1535tamp13.jpg', 'DSCF1248tamp6.jpg', 'DSC02267_scale.jpg', 'DSC_0338_scale.jpg', 'DSC_0408_scale.jpg', 'DSC_0216_scale.jpg', 'P1020736_scale.jpg', 'DSCF1853tamp1.jpg', 'DSC_0752_scale.jpg', 'DSC_0455_scale.jpg', 'P1020698_scale.jpg', 'P7110079_scale.jpg', 'DSC_0357_scale.jpg', 'P1020791_scale.jpg', 'PC020122_scale.jpg', 'P1000472tamp7.jpg', 'DSC_0242_01tamp1.jpg', 'DSC_0272_scale.jpg', 'DSC_1059_scale.jpg', 'DSC_0004_01_scale.jpg', 'DSC_0652_scale.jpg', 'DSC_1811tamp13.jpg', 'DSC_0245_scale.jpg', 'P4120010tamp12.jpg', 'P4120010tamp11.jpg', 'P1020775_scale.jpg', 'P6050381_scale.jpg', 'IMG_3648_scale.jpg', 'P7290459tamp6.jpg', 'DSC_1540tamp7.jpg', 'DSC01176tamp13.jpg', 'DSC01640tamp10.jpg', 'nikon_7tamp11.jpg', 'DSCF1853tamp13.jpg', 'IMG_2222_scale.jpg', 'DSC_0181_scale.jpg', 'DSC_0765_scale.jpg', 'DSC_0161_scale.jpg', 'DSC_1264_scale.jpg', 'DSC_0184_01_scale.jpg', 'DSC_0042_01_scale.jpg', 'DSC01640tamp4.jpg', 'DSC_0299_scale.jpg', 'DSC_0153tamp14.jpg', 'P1000293tamp11.jpg', 'DSC_0203_01_scale.jpg', 'P1020732_scale.jpg', 'DSC_0187_01_scale.jpg', 'DSC_1202_scale.jpg', 'DSCF0264_scale.jpg', 'DSC_1229_scale.jpg', 'DSCF8_scale.jpg', 'DSC_0055_01_scale.jpg', 'DSCF1337tamp13.jpg', 'IMG_2226_scale.jpg', 'DSC_1269_scale.jpg', 'DSC_0227_scale.jpg', 'P1020719_scale.jpg', 'DSC01176tamp5.jpg', 'DSC_1182_scale.jpg', 'DSC_0078_scale.jpg', 'DSC_0090_scale.jpg', 'DSC_1206_scale.jpg', 'DSC_1209_scale.jpg', 'DSCF0166_scale.jpg', 'DSC_1032_scale.jpg', 'DSC_0912_scale.jpg', 'P1020718_scale.jpg', 'DSC_1242_scale.jpg', 'DSC_0258tamp6.jpg', 'DSCF0670tamp12.jpg', 'DSCF0201tamp6.jpg', 'DSCF1337tamp8.jpg', 'PC190129_scale.jpg', 'DSC_0253_scale.jpg', 'DSC_1568tamp13.jpg', 'DSC_0611_scale.jpg', 'DSCF0216_scale.jpg', 'P6300099tamp10.jpg', 'IMG_2364_scale.jpg', 'P1000231tamp9.jpg', 'P1020704_scale.jpg', 'P1000528tamp12.jpg', 'DSC01186_scale.jpg', 'DSCF0021_scale.jpg', 'DSC_0192_scale.jpg', 'DSCF0018tamp5.jpg', 'DSC_1716tamp13.jpg', 'DSCN2329tamp8.jpg', 'DSCF0269_scale.jpg', 'P6290079_scale.jpg', 'DSC_0123_scale.jpg', 'DSCF0203_scale.jpg', 'DSC_0215tamp7.jpg', 'DSC_0083_01_scale.jpg', 'DSC_1349_scale.jpg', 'P7030206_scale.jpg', 'DSC_0204_01_scale.jpg', 'DSC_1358_scale.jpg', 'DSC_0258tamp8.jpg', 'IMG_2687_scale.jpg', 'DSC_0205_scale.jpg', 'DSC_0425_scale.jpg', 'P7310182tamp1.jpg', 'P7310182tamp11.jpg', 'DSCF1337tamp9.jpg', 'P7310182tamp5.jpg', 'DSC_0597_scale.jpg', 'DSCF0670tamp13.jpg', 'DSCF0218_scale.jpg', 'P1020799_scale.jpg', 'DSC_1221_scale.jpg', 'IMG_2974_scale.jpg', 'DSC_0279tamp5.jpg', 'DSCF1853tamp6.jpg', 'DSCF1248tamp12.jpg', 'DSC_0264tamp12.jpg', 'DSC_0279tamp1.jpg', 'DSCN47tamp5.jpg', 'DSC_0279tamp9.jpg', 'DSC_0497_scale.jpg', 'P6300087_scale.jpg', 'DSC_0774_scale.jpg', 'DSC_0257_scale.jpg', 'P1000472tamp8.jpg', 'DSC_0258tamp12.jpg', 'DSC_0073_01_scale.jpg', 'PC190612tamp13.jpg', 'DSCF0018tamp1.jpg', 'DSC_0655_scale.jpg', 'DSCF0164_scale.jpg', 'DSC_0115_01_scale.jpg', 'DSC_0013_01_scale.jpg', 'DSC01176tamp9.jpg', 'DSC_0002_01_scale.jpg', 'DSC_0619_scale.jpg', 'Immagine002_scale.jpg', 'DSC_1407_scale.jpg', 'P6300116_scale.jpg', '00005_2_scale.jpg', 'DSC_0438_scale.jpg', 'DSCF1853tamp12.jpg', 'DSC_1343_scale.jpg', 'DSC_0055_01tamp6.jpg', 'P1000231tamp12.jpg', 'DSC_0637_scale.jpg', 'P1020777_scale.jpg', 'P1000472tamp11.jpg', 'P1020752_scale.jpg', 'DSC_1355_scale.jpg', 'P1020811_scale.jpg', 'DSCN41tamp10.jpg', 'P1000528tamp14.jpg', 'P1020753_scale.jpg', 'DSC_1811tamp3.jpg', 'P1020805_scale.jpg', 'DSC_0246_scale.jpg', 'P1020684_scale.jpg', 'nikon_7tamp1.jpg', 'DSC_1535tamp4.jpg', 'DSC01172tamp1.jpg', 'DSC_0620_scale.jpg', 'IMG_2975_scale.jpg', 'DSC_1716tamp4.jpg', 'DSC_0439_scale.jpg', 'DSCF18tamp12.jpg', 'DSC_0157_scale.jpg', 'DSC_1716tamp2.jpg', 'DSC_0254tamp11.jpg', 'DSC_0107_01_scale.jpg', 'DSCN47tamp3.jpg', 'DSC01178_scale.jpg', 'DSC_0094_01_scale.jpg', 'DSC_0461_scale.jpg', 'DSC_1568tamp11.jpg', 'P1000528tamp11.jpg', 'DSC_0190_scale.jpg', 'DSC_1234_scale.jpg', 'IMG_2597_scale.jpg', 'DSC_1285_scale.jpg', 'DSC_1275_scale.jpg', 'DSC_0255_scale.jpg', 'DSC_0140_scale.jpg', 'DSCN2329tamp2.jpg', 'DSC_1021_scale.jpg', 'DSC_1428_scale.jpg', 'P1020731_scale.jpg', 'DSC_0131_01_scale.jpg', 'DSC_0136_01_scale.jpg', 'DSC_0984_scale.jpg', 'DSC_1346_scale.jpg', 'DSC_0022_scale.jpg', 'IMG_2681_scale.jpg', 'DSC_0121_scale.jpg', 'brasimone003_scale.jpg', 'DSC_0977_scale.jpg', 'DSC_0143_01_scale.jpg', 'P6300098_scale.jpg', 'DSC_0737_scale.jpg', 'IMG_2161_scale.jpg', 'DSCN41tamp5.jpg', 'DSCF8tamp10.jpg', 'icvss0843_scale.jpg', 'DSC_1187_scale.jpg', 'DSCF1260tamp12.jpg', 'DSC_0223_01_scale.jpg', 'DSC_0254tamp2.jpg', 'DSC_0318_scale.jpg', 'DSC_0632_scale.jpg', 'IMG_2649_scale.jpg', 'DSC_0109_scale.jpg', 'P1020699_scale.jpg', 'IMG_2220_scale.jpg', 'DSC_0223_scale.jpg', 'DSC_0629_scale.jpg', 'DSCF0044_scale.jpg', 'IMG_2636_scale.jpg', 'DSC_0067_scale.jpg', 'DSC_0258tamp1.jpg', 'DSCF1853tamp8.jpg', 'DSC_1041_scale.jpg', 'PA260221_scale.jpg', 'DSC_0417_scale.jpg', 'DSCF18tamp4.jpg', 'DSC_1230_scale.jpg', 'DSCF1337tamp5.jpg', 'DSC_1129_scale.jpg', 'P1020760_scale.jpg', 'DSC_0535tamp13.jpg', 'P6300099tamp3.jpg', 'DSCF1337tamp1.jpg', 'PA260223_scale.jpg', 'nikon_7tamp14.jpg', 'DSC_1811tamp2.jpg', 'DSCN47tamp6.jpg', 'IMG_3649_scale.jpg', 'DSC_0079_scale.jpg', 'P1020747_scale.jpg', 'DSC_0184_scale.jpg', 'DSCF1248tamp11.jpg', 'DSC01196_scale.jpg', 'P1020807_scale.jpg', '00002_scale.jpg', 'DSCF1260tamp7.jpg', 'DSC_0764_scale.jpg', 'DSC_1014_scale.jpg', 'DSC_0078_01_scale.jpg', 'DSC_1029_scale.jpg', 'DSC_0638_scale.jpg', 'DSCF1248tamp1.jpg', 'P1020765_scale.jpg', 'DSC_1208_scale.jpg', 'PA260237tamp14.jpg', 'DSC_0044_01_scale.jpg', 'IMG_2140_scale.jpg', 'DSC_0352_scale.jpg', 'DSCF0018tamp3.jpg', 'DSC_0973_scale.jpg', 'IMG_2540_scale.jpg', 'DSC_0812tamp4.jpg', 'DSC_0812tamp13.jpg', 'DSC01172tamp10.jpg', '00033_2_scale.jpg', 'DSC_1540tamp12.jpg', 'DSC_1535_scale.jpg', 'DSC_1409_scale.jpg', 'DSC_0535_scale.jpg', 'DSCF0170tamp4.jpg', 'DSC_0201_scale.jpg', 'P7110196_scale.jpg', 'DSC_1037_scale.jpg', 'P7310182_scale.jpg', 'DSCF1248tamp5.jpg', 'DSC_1535tamp9.jpg', 'DSC_0215tamp3.jpg', 'DSC_0036_01_scale.jpg', 'DSCF0170tamp3.jpg', 'DSC_1010_scale.jpg', 'PA260232_scale.jpg', 'DSC_0264tamp9.jpg', 'DSC_0467_scale.jpg', 'P7030219_scale.jpg', 'nikon_7tamp2.jpg', 'DSCF0201tamp4.jpg', 'DSC_0410_scale.jpg', 'P1020707_scale.jpg', '00017_scale.jpg', 'DSC01176tamp11.jpg', 'DSC_0215tamp10.jpg', 'P1020686_scale.jpg', 'DSC_0559_scale.jpg', 'DSCF1248tamp13.jpg', 'DSC_0409tamp10.jpg', 'P7290459tamp8.jpg', 'P7310182tamp3.jpg', 'DSC_1282_scale.jpg', 'IMG_2677_scale.jpg', 'DSC_0182_scale.jpg', 'P6300106_scale.jpg', 'DSC_1051_scale.jpg', 'DSCF18tamp8.jpg', 'DSC01640tamp6.jpg', 'DSC_0623_scale.jpg', 'DSC_0120_scale.jpg', '00007_2_scale.jpg', 'P3260056_scale.jpg', 'DSC_1276_scale.jpg', 'DSC_1058_scale.jpg', 'PA280290_scale.jpg', 'P7290459tamp3.jpg', 'P1020800_scale.jpg', 'P1020741_scale.jpg', 'DSC_1228_scale.jpg', 'DSC_0013_01tamp5.jpg', 'DSC_0005_01_scale.jpg', 'IMG_2463_scale.jpg', 'DSC_0279tamp3.jpg', 'IMG_2630_scale.jpg', 'DSC_0159_scale.jpg', 'P1020769_scale.jpg', 'DSC_1146_scale.jpg', 'P1000528tamp5.jpg', 'DSC_0409tamp2.jpg', 'P1000231_scale.jpg', 'IMG_3006_scale.jpg', 'PA260237_scale.jpg', 'DSC_1943tamp7.jpg', 'DSC_1568tamp8.jpg', 'DSC_0213_01_scale.jpg', 'DSC_0166_scale.jpg', 'DSC_0095_01_scale.jpg', 'DSCN47tamp1.jpg', 'DSC_0055_01tamp8.jpg', 'DSC_0451_scale.jpg', 'DSC_0081_01_scale.jpg', 'DSC_1026_scale.jpg', 'DSC01640tamp14.jpg', 'PA280291_scale.jpg', 'DSC_1215_scale.jpg', 'DSC_1056_scale.jpg', 'DSC_0462_scale.jpg', 'DSC01166_scale.jpg', 'DSC_1535tamp12.jpg', 'IMG_2511_scale.jpg', 'IMG_2992_scale.jpg', 'DSC01192_scale.jpg', 'DSCF8tamp5.jpg', 'DSC_0563_scale.jpg', 'P6300099tamp5.jpg', 'IMG_3564_scale.jpg', 'DSC_1283_scale.jpg', 'P1020771_scale.jpg', 'DSC_0739_scale.jpg', 'DSC_0479_scale.jpg', 'P4120010tamp4.jpg', 'DSC_0766_scale.jpg', 'DSC_1943tamp13.jpg', 'DSC_1607_scale.jpg', 'DSCN47tamp12.jpg', 'IMG_2667_scale.jpg', 'DSC_0750_scale.jpg', 'sony_61tamp14.jpg', 'DSC_1133_scale.jpg', 'DSC_0194_01_scale.jpg', 'DSC_1022_scale.jpg', 'DSC_0053_01_scale.jpg', 'DSCF1260tamp9.jpg', 'P4120010tamp13.jpg', 'DSC_0535tamp2.jpg', 'DSC01172tamp14.jpg', 'DSC_0258tamp13.jpg', 'DSC_0162_01_scale.jpg', 'DSCF0222_scale.jpg', 'IMG_3010_scale.jpg', 'DSCF1248_scale.jpg', 'DSC_0264tamp3.jpg', 'DSC_0124_01_scale.jpg', 'DSC_0264tamp10.jpg', 'DSC_1102_scale.jpg', 'DSC_1007_scale.jpg', 'DSCF18_scale.jpg', 'DSCF8tamp2.jpg', 'P7310182tamp10.jpg', 'IMG_2669_scale.jpg', 'DSC_0155_01_scale.jpg', 'PA270277_scale.jpg', '00007tamp4.jpg', 'DSC01172tamp6.jpg', 'DSC_0032_01_scale.jpg', 'DSC_0979_scale.jpg', 'DSC_1354_scale.jpg', 'P1000231tamp5.jpg', 'P1020784_scale.jpg', 'DSC_0624_scale.jpg', 'P8030524_scale.jpg', 'DSC_1061_scale.jpg', 'DSC_0345_scale.jpg', 'IMG_2605_scale.jpg', 'P7110082_scale.jpg', 'DSC_0644_scale.jpg', 'DSC01176tamp6.jpg', 'DSC_1210_scale.jpg', 'DSCF8tamp13.jpg', 'IMG_2928_scale.jpg', 'DSC_0165_scale.jpg', 'DSC_1341_scale.jpg', 'DSC_0049_01_scale.jpg', 'DSC_0023_01_scale.jpg', 'DSC_0211_01_scale.jpg', 'DSC_0499_scale.jpg', 'DSCF0201tamp13.jpg', 'DSC_1362_scale.jpg', 'DSC_0429_scale.jpg', 'DSC_0436_scale.jpg', '00001_scale.jpg', 'DSC_0215tamp2.jpg', 'DSC01176tamp2.jpg', 'DSC_0756_scale.jpg', 'DSCF1853tamp14.jpg', 'DSC_1811tamp11.jpg', 'DSC_0018_01_scale.jpg', 'DSCF8tamp9.jpg', 'DSC_0648tamp12.jpg', 'DSC_1360_scale.jpg', 'DSC_0379_scale.jpg', 'DSC_0210_scale.jpg', 'DSC_0496_scale.jpg', 'DSC_1049_scale.jpg', 'DSC_0076_scale.jpg', 'DSC_1540tamp4.jpg', 'DSCN2329_scale.jpg', 'DSC_1568tamp9.jpg', 'DSC_1353_scale.jpg', 'sony_61tamp9.jpg', 'DSC_1540tamp5.jpg', 'DSC_0635_scale.jpg', 'DSC_0215tamp11.jpg', 'DSC_0768_scale.jpg', 'DSCF1853_scale.jpg', 'P1020803_scale.jpg', 'DSCN2329tamp11.jpg', 'DSC_0476_scale.jpg', 'DSC_1540tamp8.jpg', 'P6300099tamp4.jpg', 'DSC_1050_scale.jpg', 'IMG_2617_scale.jpg', 'DSC_1281_scale.jpg', 'DSC_0639_scale.jpg', 'DSC_1604_scale.jpg', 'DSC_1943tamp3.jpg', 'P1000528tamp10.jpg', 'DSCF8tamp1.jpg', 'DSC_1200_scale.jpg', 'DSCF8tamp6.jpg', 'DSC_1212_scale.jpg', 'DSC_0031_01_scale.jpg', 'DSC01640tamp11.jpg', 'IMG_2554_scale.jpg', 'P4120010tamp2.jpg', 'DSC_0568_scale.jpg', 'DSC_0468_scale.jpg', 'DSC_1286_scale.jpg', 'P7160117_scale.jpg', 'P1020691_scale.jpg', 'DSC_1310_scale.jpg', 'DSC_0562_scale.jpg', 'PA260237tamp12.jpg', '00007tamp1.jpg', 'DSCF0018tamp7.jpg', '00012_scale.jpg', 'DSC_1121_scale.jpg', 'DSC_0047_01_scale.jpg', 'DSC_0254tamp13.jpg', 'PC190612tamp3.jpg', 'DSC_1535tamp5.jpg', 'DSC01176tamp1.jpg', 'DSCF0670_scale.jpg', 'DSC_0156_scale.jpg', 'PA260237tamp11.jpg', 'P7290459tamp1.jpg', 'DSC_1232_scale.jpg', 'P7290459tamp2.jpg', 'P6280075_scale.jpg', 'DSC_0118_01_scale.jpg', 'DSC_0812tamp10.jpg', '00033_scale.jpg', 'P1020763_scale.jpg', 'P1020709_scale.jpg', 'DSC01640tamp3.jpg', 'DSC_0535tamp4.jpg', 'DSC_1043_scale.jpg', 'DSC_1140_scale.jpg', 'DSC_0600_scale.jpg', 'DSCN2329tamp4.jpg', 'DSC_1042_scale.jpg', 'DSC_1257_scale.jpg', 'DSC_0091_scale.jpg', 'P7310182tamp4.jpg', 'IMG_2202_scale.jpg', 'DSC_1716tamp12.jpg', 'DSC_1055_scale.jpg', 'DSC_0264tamp2.jpg', 'DSC_0055_01tamp11.jpg', 'DSC01176tamp12.jpg', 'P1020783_scale.jpg', 'DSC_0751_scale.jpg', 'IMG_2655_scale.jpg', 'PA260225_scale.jpg', 'IMG_2536_scale.jpg', 'P1020806_scale.jpg', 'DSC_0420_scale.jpg', 'P1020755_scale.jpg', '00004_2_scale.jpg', 'DSCF0201tamp2.jpg', 'DSC_1414_scale.jpg', 'P1020706_scale.jpg', 'DSC_0606_scale.jpg', 'P1020754_scale.jpg', 'DSC_1034_scale.jpg', 'DSC_0474_scale.jpg', 'DCAM0158_scale.jpg', 'DSC_0097tamp7.jpg', 'P1020703_scale.jpg', 'IMG_2620_scale.jpg', 'DSC_0207_01_scale.jpg', 'DSCN2329tamp3.jpg', 'DSC_0279tamp10.jpg', 'DSCF0019_scale.jpg', 'DSC_0755_scale.jpg', 'IMG_2268_scale.jpg', 'P1000472tamp9.jpg', 'P7290459tamp9.jpg', 'DSCF0170tamp5.jpg', 'IMG_2995_scale.jpg', 'DSC_1266_scale.jpg', 'IMG_2190_scale.jpg', 'DSC_0991_scale.jpg', 'DSC_1716tamp5.jpg', 'P7290459tamp5.jpg', 'DSC_0279tamp7.jpg', 'P1020774_scale.jpg', 'DSC_0986_scale.jpg', 'DSC_0264tamp11.jpg', 'DSCF1248tamp10.jpg', 'DSC_0130_scale.jpg', 'DSC_0097tamp5.jpg', 'DSC_0254tamp5.jpg', 'DSCN41tamp9.jpg', 'DSC_1811tamp8.jpg', 'P7020153_scale.jpg', 'DSC_1943tamp2.jpg', 'DSC_0648tamp7.jpg', 'DSC_1132_scale.jpg', 'IMG_2502_scale.jpg', 'P1000528tamp8.jpg', 'DSC_1568tamp6.jpg', 'P1020740_scale.jpg']\n"
          ]
        }
      ]
    },
    {
      "cell_type": "code",
      "execution_count": 27,
      "id": "musical-somalia",
      "metadata": {
        "id": "musical-somalia"
      },
      "outputs": [],
      "source": [
        "import cv2\n",
        "import sys\n",
        "import shutil\n",
        "import random\n",
        "import os\n",
        "import csv\n",
        "from pylab import *\n",
        "import numpy as np\n",
        "import matplotlib.pyplot as plt\n",
        "%matplotlib inline\n",
        "import itertools\n",
        "from PIL import Image\n",
        "import pandas as pd\n",
        "import glob\n",
        "\n",
        "from sklearn.model_selection import train_test_split\n",
        "from sklearn.metrics import confusion_matrix\n",
        "import tensorflow as tf\n",
        "from tensorflow.keras.utils import to_categorical\n",
        "from tensorflow.keras import optimizers\n",
        "from tensorflow.keras.callbacks import LearningRateScheduler\n",
        "from tensorflow.keras import models, layers\n",
        "from tensorflow.keras.models import Model, Sequential\n",
        "from tensorflow.keras.layers import Dense, Flatten, Dropout\n",
        "#!pip install efficientnet\n",
        "from efficientnet.tfkeras import EfficientNetB0\n",
        "from tensorflow.keras.applications.vgg16 import preprocess_input, decode_predictions\n",
        "from tensorflow.keras.preprocessing.image import ImageDataGenerator\n",
        "from tensorflow.keras.optimizers import Adam, RMSprop\n"
      ]
    },
    {
      "cell_type": "code",
      "execution_count": 28,
      "id": "alpha-armenia",
      "metadata": {
        "id": "alpha-armenia"
      },
      "outputs": [],
      "source": [
        "#create necessary directory if the directory doesn't exist\n",
        "def create_necessary_folder():\n",
        "    #make dir for plottings\n",
        "    if not os.path.exists('plottings'): os.mkdir(f'{os.getcwd()}\\\\plottings')\n",
        "    #subfolders for every architecture\n",
        "    if not  os.path.exists('plottings\\\\vgg16'): os.mkdir(f'{os.getcwd()}\\\\plottings\\\\vgg16')\n",
        "    if not  os.path.exists('plottings\\\\vgg19'): os.mkdir(f'{os.getcwd()}\\\\plottings\\\\vgg19')\n",
        "    if not  os.path.exists('plottings\\\\effnet'): os.mkdir(f'{os.getcwd()}\\\\plottings\\\\effnet')\n",
        "    #make dir for models\n",
        "    if not os.path.exists('models'): os.mkdir(f'{os.getcwd()}\\\\models')\n",
        "    #subfolders for every architecture\n",
        "    if not  os.path.exists('models\\\\vgg16'): os.mkdir(f'{os.getcwd()}\\\\models\\\\vgg16')\n",
        "    if not  os.path.exists('models\\\\vgg19'): os.mkdir(f'{os.getcwd()}\\\\models\\\\vgg19')\n",
        "    if not  os.path.exists('models\\\\effnet'): os.mkdir(f'{os.getcwd()}\\\\models\\\\effnet')\n",
        "\n",
        "\n",
        "create_necessary_folder()\n"
      ]
    },
    {
      "cell_type": "code",
      "execution_count": 29,
      "id": "decimal-disposal",
      "metadata": {
        "id": "decimal-disposal"
      },
      "outputs": [],
      "source": [
        "def step_decay_schedule(initial_lr=1e-3, decay_factor=0.75, step_size=10):\n",
        "    def schedule(epoch):\n",
        "        return initial_lr * (decay_factor ** np.floor(epoch / step_size))\n",
        "    return LearningRateScheduler(schedule)\n",
        "\n",
        "\n",
        "def import_dataset(path):\n",
        "    im = Image.open(path).convert('RGB')\n",
        "    return im\n"
      ]
    },
    {
      "cell_type": "markdown",
      "id": "nasty-obligation",
      "metadata": {
        "id": "nasty-obligation"
      },
      "source": [
        "### Try EfficientNet B0 (the base model)"
      ]
    },
    {
      "cell_type": "code",
      "execution_count": 30,
      "id": "distinct-closing",
      "metadata": {
        "id": "distinct-closing",
        "outputId": "1825a430-a3f4-46bd-c022-3cb31aa4b2dd",
        "colab": {
          "base_uri": "https://localhost:8080/",
          "height": 373
        }
      },
      "outputs": [
        {
          "output_type": "error",
          "ename": "FileNotFoundError",
          "evalue": "[Errno 2] No such file or directory: 'ground-truth.csv'",
          "traceback": [
            "\u001b[0;31m---------------------------------------------------------------------------\u001b[0m",
            "\u001b[0;31mFileNotFoundError\u001b[0m                         Traceback (most recent call last)",
            "\u001b[0;32m<ipython-input-30-3796ba378508>\u001b[0m in \u001b[0;36m<cell line: 0>\u001b[0;34m()\u001b[0m\n\u001b[1;32m      1\u001b[0m \u001b[0mX\u001b[0m\u001b[0;34m,\u001b[0m \u001b[0mY\u001b[0m \u001b[0;34m=\u001b[0m \u001b[0;34m[\u001b[0m\u001b[0;34m]\u001b[0m\u001b[0;34m,\u001b[0m \u001b[0;34m[\u001b[0m\u001b[0;34m]\u001b[0m\u001b[0;34m\u001b[0m\u001b[0;34m\u001b[0m\u001b[0m\n\u001b[1;32m      2\u001b[0m \u001b[0;34m\u001b[0m\u001b[0m\n\u001b[0;32m----> 3\u001b[0;31m \u001b[0mdataset\u001b[0m \u001b[0;34m=\u001b[0m \u001b[0mpd\u001b[0m\u001b[0;34m.\u001b[0m\u001b[0mread_csv\u001b[0m\u001b[0;34m(\u001b[0m\u001b[0;34m'ground-truth.csv'\u001b[0m\u001b[0;34m)\u001b[0m\u001b[0;34m\u001b[0m\u001b[0;34m\u001b[0m\u001b[0m\n\u001b[0m\u001b[1;32m      4\u001b[0m \u001b[0mEPOCHS\u001b[0m \u001b[0;34m=\u001b[0m \u001b[0;36m15\u001b[0m\u001b[0;34m\u001b[0m\u001b[0;34m\u001b[0m\u001b[0m\n\u001b[1;32m      5\u001b[0m \u001b[0mLEARNING_RATE\u001b[0m \u001b[0;34m=\u001b[0m \u001b[0;36m1e-3\u001b[0m\u001b[0;34m\u001b[0m\u001b[0;34m\u001b[0m\u001b[0m\n",
            "\u001b[0;32m/usr/local/lib/python3.11/dist-packages/pandas/io/parsers/readers.py\u001b[0m in \u001b[0;36mread_csv\u001b[0;34m(filepath_or_buffer, sep, delimiter, header, names, index_col, usecols, dtype, engine, converters, true_values, false_values, skipinitialspace, skiprows, skipfooter, nrows, na_values, keep_default_na, na_filter, verbose, skip_blank_lines, parse_dates, infer_datetime_format, keep_date_col, date_parser, date_format, dayfirst, cache_dates, iterator, chunksize, compression, thousands, decimal, lineterminator, quotechar, quoting, doublequote, escapechar, comment, encoding, encoding_errors, dialect, on_bad_lines, delim_whitespace, low_memory, memory_map, float_precision, storage_options, dtype_backend)\u001b[0m\n\u001b[1;32m   1024\u001b[0m     \u001b[0mkwds\u001b[0m\u001b[0;34m.\u001b[0m\u001b[0mupdate\u001b[0m\u001b[0;34m(\u001b[0m\u001b[0mkwds_defaults\u001b[0m\u001b[0;34m)\u001b[0m\u001b[0;34m\u001b[0m\u001b[0;34m\u001b[0m\u001b[0m\n\u001b[1;32m   1025\u001b[0m \u001b[0;34m\u001b[0m\u001b[0m\n\u001b[0;32m-> 1026\u001b[0;31m     \u001b[0;32mreturn\u001b[0m \u001b[0m_read\u001b[0m\u001b[0;34m(\u001b[0m\u001b[0mfilepath_or_buffer\u001b[0m\u001b[0;34m,\u001b[0m \u001b[0mkwds\u001b[0m\u001b[0;34m)\u001b[0m\u001b[0;34m\u001b[0m\u001b[0;34m\u001b[0m\u001b[0m\n\u001b[0m\u001b[1;32m   1027\u001b[0m \u001b[0;34m\u001b[0m\u001b[0m\n\u001b[1;32m   1028\u001b[0m \u001b[0;34m\u001b[0m\u001b[0m\n",
            "\u001b[0;32m/usr/local/lib/python3.11/dist-packages/pandas/io/parsers/readers.py\u001b[0m in \u001b[0;36m_read\u001b[0;34m(filepath_or_buffer, kwds)\u001b[0m\n\u001b[1;32m    618\u001b[0m \u001b[0;34m\u001b[0m\u001b[0m\n\u001b[1;32m    619\u001b[0m     \u001b[0;31m# Create the parser.\u001b[0m\u001b[0;34m\u001b[0m\u001b[0;34m\u001b[0m\u001b[0m\n\u001b[0;32m--> 620\u001b[0;31m     \u001b[0mparser\u001b[0m \u001b[0;34m=\u001b[0m \u001b[0mTextFileReader\u001b[0m\u001b[0;34m(\u001b[0m\u001b[0mfilepath_or_buffer\u001b[0m\u001b[0;34m,\u001b[0m \u001b[0;34m**\u001b[0m\u001b[0mkwds\u001b[0m\u001b[0;34m)\u001b[0m\u001b[0;34m\u001b[0m\u001b[0;34m\u001b[0m\u001b[0m\n\u001b[0m\u001b[1;32m    621\u001b[0m \u001b[0;34m\u001b[0m\u001b[0m\n\u001b[1;32m    622\u001b[0m     \u001b[0;32mif\u001b[0m \u001b[0mchunksize\u001b[0m \u001b[0;32mor\u001b[0m \u001b[0miterator\u001b[0m\u001b[0;34m:\u001b[0m\u001b[0;34m\u001b[0m\u001b[0;34m\u001b[0m\u001b[0m\n",
            "\u001b[0;32m/usr/local/lib/python3.11/dist-packages/pandas/io/parsers/readers.py\u001b[0m in \u001b[0;36m__init__\u001b[0;34m(self, f, engine, **kwds)\u001b[0m\n\u001b[1;32m   1618\u001b[0m \u001b[0;34m\u001b[0m\u001b[0m\n\u001b[1;32m   1619\u001b[0m         \u001b[0mself\u001b[0m\u001b[0;34m.\u001b[0m\u001b[0mhandles\u001b[0m\u001b[0;34m:\u001b[0m \u001b[0mIOHandles\u001b[0m \u001b[0;34m|\u001b[0m \u001b[0;32mNone\u001b[0m \u001b[0;34m=\u001b[0m \u001b[0;32mNone\u001b[0m\u001b[0;34m\u001b[0m\u001b[0;34m\u001b[0m\u001b[0m\n\u001b[0;32m-> 1620\u001b[0;31m         \u001b[0mself\u001b[0m\u001b[0;34m.\u001b[0m\u001b[0m_engine\u001b[0m \u001b[0;34m=\u001b[0m \u001b[0mself\u001b[0m\u001b[0;34m.\u001b[0m\u001b[0m_make_engine\u001b[0m\u001b[0;34m(\u001b[0m\u001b[0mf\u001b[0m\u001b[0;34m,\u001b[0m \u001b[0mself\u001b[0m\u001b[0;34m.\u001b[0m\u001b[0mengine\u001b[0m\u001b[0;34m)\u001b[0m\u001b[0;34m\u001b[0m\u001b[0;34m\u001b[0m\u001b[0m\n\u001b[0m\u001b[1;32m   1621\u001b[0m \u001b[0;34m\u001b[0m\u001b[0m\n\u001b[1;32m   1622\u001b[0m     \u001b[0;32mdef\u001b[0m \u001b[0mclose\u001b[0m\u001b[0;34m(\u001b[0m\u001b[0mself\u001b[0m\u001b[0;34m)\u001b[0m \u001b[0;34m->\u001b[0m \u001b[0;32mNone\u001b[0m\u001b[0;34m:\u001b[0m\u001b[0;34m\u001b[0m\u001b[0;34m\u001b[0m\u001b[0m\n",
            "\u001b[0;32m/usr/local/lib/python3.11/dist-packages/pandas/io/parsers/readers.py\u001b[0m in \u001b[0;36m_make_engine\u001b[0;34m(self, f, engine)\u001b[0m\n\u001b[1;32m   1878\u001b[0m                 \u001b[0;32mif\u001b[0m \u001b[0;34m\"b\"\u001b[0m \u001b[0;32mnot\u001b[0m \u001b[0;32min\u001b[0m \u001b[0mmode\u001b[0m\u001b[0;34m:\u001b[0m\u001b[0;34m\u001b[0m\u001b[0;34m\u001b[0m\u001b[0m\n\u001b[1;32m   1879\u001b[0m                     \u001b[0mmode\u001b[0m \u001b[0;34m+=\u001b[0m \u001b[0;34m\"b\"\u001b[0m\u001b[0;34m\u001b[0m\u001b[0;34m\u001b[0m\u001b[0m\n\u001b[0;32m-> 1880\u001b[0;31m             self.handles = get_handle(\n\u001b[0m\u001b[1;32m   1881\u001b[0m                 \u001b[0mf\u001b[0m\u001b[0;34m,\u001b[0m\u001b[0;34m\u001b[0m\u001b[0;34m\u001b[0m\u001b[0m\n\u001b[1;32m   1882\u001b[0m                 \u001b[0mmode\u001b[0m\u001b[0;34m,\u001b[0m\u001b[0;34m\u001b[0m\u001b[0;34m\u001b[0m\u001b[0m\n",
            "\u001b[0;32m/usr/local/lib/python3.11/dist-packages/pandas/io/common.py\u001b[0m in \u001b[0;36mget_handle\u001b[0;34m(path_or_buf, mode, encoding, compression, memory_map, is_text, errors, storage_options)\u001b[0m\n\u001b[1;32m    871\u001b[0m         \u001b[0;32mif\u001b[0m \u001b[0mioargs\u001b[0m\u001b[0;34m.\u001b[0m\u001b[0mencoding\u001b[0m \u001b[0;32mand\u001b[0m \u001b[0;34m\"b\"\u001b[0m \u001b[0;32mnot\u001b[0m \u001b[0;32min\u001b[0m \u001b[0mioargs\u001b[0m\u001b[0;34m.\u001b[0m\u001b[0mmode\u001b[0m\u001b[0;34m:\u001b[0m\u001b[0;34m\u001b[0m\u001b[0;34m\u001b[0m\u001b[0m\n\u001b[1;32m    872\u001b[0m             \u001b[0;31m# Encoding\u001b[0m\u001b[0;34m\u001b[0m\u001b[0;34m\u001b[0m\u001b[0m\n\u001b[0;32m--> 873\u001b[0;31m             handle = open(\n\u001b[0m\u001b[1;32m    874\u001b[0m                 \u001b[0mhandle\u001b[0m\u001b[0;34m,\u001b[0m\u001b[0;34m\u001b[0m\u001b[0;34m\u001b[0m\u001b[0m\n\u001b[1;32m    875\u001b[0m                 \u001b[0mioargs\u001b[0m\u001b[0;34m.\u001b[0m\u001b[0mmode\u001b[0m\u001b[0;34m,\u001b[0m\u001b[0;34m\u001b[0m\u001b[0;34m\u001b[0m\u001b[0m\n",
            "\u001b[0;31mFileNotFoundError\u001b[0m: [Errno 2] No such file or directory: 'ground-truth.csv'"
          ]
        }
      ],
      "source": [
        "X, Y = [], []\n",
        "\n",
        "dataset = pd.read_csv('ground-truth.csv')\n",
        "EPOCHS = 15\n",
        "LEARNING_RATE = 1e-3\n",
        "\n",
        "for index, row in dataset.iterrows():\n",
        "    X.append(array(import_dataset(row[0]).resize((100, 100))).flatten() / 255.0)\n",
        "    Y.append(row[1])\n",
        "\n",
        "X = np.array(X)\n",
        "Y = to_categorical(Y, 2)\n",
        "X = X.reshape(-1, 100, 100, 3)\n",
        "X_train, X_val, Y_train, Y_val = train_test_split(X, Y, test_size=0.20, random_state=5)\n",
        "\n",
        "#Load EfficientNet, also set drop_connect_rate for stronger regularization\n",
        "#input layer\n",
        "inputs = layers.Input(shape=(100,100,3))\n",
        "#declare EfficientNetB0\n",
        "model = EfficientNetB0(weights='imagenet', include_top=False, input_tensor=inputs, input_shape=(100, 100, 3), drop_connect_rate=0.4)\n",
        "model.trainable = False\n",
        "#rebuild top layers\n",
        "x = layers.GlobalAveragePooling2D(name=\"avg_pool\")(model.output)\n",
        "x = layers.BatchNormalization()(x)\n",
        "top_dropout_rate = 0.2\n",
        "x = layers.Dropout(top_dropout_rate, name=\"top_dropout\")(x)\n",
        "outputs = layers.Dense(2, activation=\"softmax\", name=\"pred\")(x)\n",
        "model = Model(inputs=inputs, outputs=outputs, name=\"EfficientNet\")\n",
        "model.summary()\n",
        "\n",
        "optimizer = optimizers.Adam(lr=LEARNING_RATE, epsilon=None)\n",
        "\n",
        "\n",
        "#hyperparameter settings\n",
        "epochs = EPOCHS\n",
        "batch_size = 16\n",
        "optimizer = optimizers.Adam(lr=LEARNING_RATE, epsilon=None)\n",
        "model.compile(optimizer=optimizer, loss=\"mean_squared_error\",metrics=['accuracy'])\n",
        "\n",
        "lr_sched = step_decay_schedule(initial_lr=1e-4, decay_factor=0.75, step_size=2)\n"
      ]
    },
    {
      "cell_type": "code",
      "execution_count": 31,
      "id": "illegal-amsterdam",
      "metadata": {
        "id": "illegal-amsterdam",
        "outputId": "9b38bdce-1141-48f8-d749-b0478abe83c4",
        "colab": {
          "base_uri": "https://localhost:8080/",
          "height": 159
        }
      },
      "outputs": [
        {
          "output_type": "error",
          "ename": "NameError",
          "evalue": "name 'model' is not defined",
          "traceback": [
            "\u001b[0;31m---------------------------------------------------------------------------\u001b[0m",
            "\u001b[0;31mNameError\u001b[0m                                 Traceback (most recent call last)",
            "\u001b[0;32m<ipython-input-31-af5f23b25e65>\u001b[0m in \u001b[0;36m<cell line: 0>\u001b[0;34m()\u001b[0m\n\u001b[0;32m----> 1\u001b[0;31m \u001b[0mhistory\u001b[0m \u001b[0;34m=\u001b[0m \u001b[0mmodel\u001b[0m\u001b[0;34m.\u001b[0m\u001b[0mfit\u001b[0m\u001b[0;34m(\u001b[0m\u001b[0mX_train\u001b[0m\u001b[0;34m,\u001b[0m \u001b[0mY_train\u001b[0m\u001b[0;34m,\u001b[0m \u001b[0mbatch_size\u001b[0m\u001b[0;34m=\u001b[0m\u001b[0mbatch_size\u001b[0m\u001b[0;34m,\u001b[0m \u001b[0mepochs\u001b[0m\u001b[0;34m=\u001b[0m\u001b[0mepochs\u001b[0m\u001b[0;34m,\u001b[0m \u001b[0mvalidation_data\u001b[0m\u001b[0;34m=\u001b[0m\u001b[0;34m(\u001b[0m\u001b[0mX_val\u001b[0m\u001b[0;34m,\u001b[0m \u001b[0mY_val\u001b[0m\u001b[0;34m)\u001b[0m\u001b[0;34m,\u001b[0m \u001b[0mverbose\u001b[0m\u001b[0;34m=\u001b[0m\u001b[0;36m2\u001b[0m\u001b[0;34m,\u001b[0m\u001b[0mcallbacks\u001b[0m\u001b[0;34m=\u001b[0m\u001b[0;34m[\u001b[0m\u001b[0mlr_sched\u001b[0m\u001b[0;34m]\u001b[0m\u001b[0;34m)\u001b[0m\u001b[0;34m\u001b[0m\u001b[0;34m\u001b[0m\u001b[0m\n\u001b[0m",
            "\u001b[0;31mNameError\u001b[0m: name 'model' is not defined"
          ]
        }
      ],
      "source": [
        "history = model.fit(X_train, Y_train, batch_size=batch_size, epochs=epochs, validation_data=(X_val, Y_val), verbose=2,callbacks=[lr_sched])\n"
      ]
    },
    {
      "cell_type": "markdown",
      "id": "noted-google",
      "metadata": {
        "id": "noted-google"
      },
      "source": [
        "##### Set random ID for current training"
      ]
    },
    {
      "cell_type": "code",
      "execution_count": 32,
      "id": "threaded-monkey",
      "metadata": {
        "id": "threaded-monkey",
        "outputId": "8e84de54-542a-4d70-b552-558591f1e12c",
        "colab": {
          "base_uri": "https://localhost:8080/",
          "height": 193
        }
      },
      "outputs": [
        {
          "output_type": "stream",
          "name": "stdout",
          "text": [
            "Your unique ID is 145, refer to this ID to check the latest data!\n"
          ]
        },
        {
          "output_type": "error",
          "ename": "NameError",
          "evalue": "name 'LEARNING_RATE' is not defined",
          "traceback": [
            "\u001b[0;31m---------------------------------------------------------------------------\u001b[0m",
            "\u001b[0;31mNameError\u001b[0m                                 Traceback (most recent call last)",
            "\u001b[0;32m<ipython-input-32-df62c007da91>\u001b[0m in \u001b[0;36m<cell line: 0>\u001b[0;34m()\u001b[0m\n\u001b[1;32m      3\u001b[0m \u001b[0mr\u001b[0m \u001b[0;34m=\u001b[0m \u001b[0mrandom\u001b[0m\u001b[0;34m.\u001b[0m\u001b[0mrandint\u001b[0m\u001b[0;34m(\u001b[0m\u001b[0;36m1\u001b[0m\u001b[0;34m,\u001b[0m \u001b[0;36m1000\u001b[0m\u001b[0;34m)\u001b[0m\u001b[0;34m\u001b[0m\u001b[0;34m\u001b[0m\u001b[0m\n\u001b[1;32m      4\u001b[0m \u001b[0mprint\u001b[0m\u001b[0;34m(\u001b[0m\u001b[0;34mf'Your unique ID is {r}, refer to this ID to check the latest data!'\u001b[0m\u001b[0;34m)\u001b[0m\u001b[0;34m\u001b[0m\u001b[0;34m\u001b[0m\u001b[0m\n\u001b[0;32m----> 5\u001b[0;31m \u001b[0mID\u001b[0m \u001b[0;34m=\u001b[0m \u001b[0;34mf'{LEARNING_RATE}n{EPOCHS}_{r}'\u001b[0m\u001b[0;34m\u001b[0m\u001b[0;34m\u001b[0m\u001b[0m\n\u001b[0m",
            "\u001b[0;31mNameError\u001b[0m: name 'LEARNING_RATE' is not defined"
          ]
        }
      ],
      "source": [
        "import random\n",
        "#assign random code to make unique ID\n",
        "r = random.randint(1, 1000)\n",
        "print(f'Your unique ID is {r}, refer to this ID to check the latest data!')\n",
        "ID = f'{LEARNING_RATE}n{EPOCHS}_{r}'"
      ]
    },
    {
      "cell_type": "code",
      "execution_count": null,
      "id": "caring-sarah",
      "metadata": {
        "scrolled": true,
        "id": "caring-sarah"
      },
      "outputs": [],
      "source": [
        "#plotting\n",
        "def plot_confusion_matrix(cm, classes, normalize=False, title='Confusion matrix', cmap=plt.cm.Blues):\n",
        "    plt.imshow(cm, interpolation='nearest', cmap=cmap)\n",
        "    plt.title(title)\n",
        "    plt.colorbar()\n",
        "    tick_marks = np.arange(len(classes))\n",
        "    plt.xticks(tick_marks, classes, rotation=45)\n",
        "    plt.yticks(tick_marks, classes)\n",
        "\n",
        "    if normalize:\n",
        "        cm = cm.astype('float') / cm.sum(axis=1)[:, np.newaxis]\n",
        "\n",
        "    thresh = cm.max() / 2.\n",
        "    for i, j in itertools.product(range(cm.shape[0]), range(cm.shape[1])):\n",
        "        plt.text(j, i, cm[i, j], horizontalalignment=\"center\", color=\"white\" if cm[i, j] > thresh else \"black\")\n",
        "\n",
        "    plt.tight_layout()\n",
        "    plt.ylabel('True label')\n",
        "    plt.xlabel('Predicted label')\n",
        "\n",
        "#plt.subplot(2,1,1)\n",
        "plt.plot(history.history['accuracy'])\n",
        "plt.plot(history.history['val_accuracy'])\n",
        "plt.ylabel('accuracy')\n",
        "plt.xlabel('epoch')\n",
        "\n",
        "plt.savefig(f'plottings\\\\effnet\\\\acc_{ID}.png')\n",
        "plt.show()\n",
        "\n",
        "#plt.subplot(2,1,2)\n",
        "plt.plot(history.history['loss'])\n",
        "plt.plot(history.history['val_loss'])\n",
        "plt.ylabel('loss')\n",
        "plt.xlabel('epoch')\n",
        "plt.savefig(f'plottings\\\\effnet\\\\loss_{ID}.png')\n",
        "plt.show()\n",
        "\n",
        "Y_pred = model.predict(X_val)\n",
        "# Convert predictions classes to one hot vectors\n",
        "Y_pred_classes = np.argmax(Y_pred, axis=1)\n",
        "# Convert validation observations to one hot vectors\n",
        "Y_true = np.argmax(Y_val, axis=1)\n",
        "# compute the confusion matrix\n",
        "confusion_mtx = confusion_matrix(Y_true, Y_pred_classes)\n",
        "# plot the confusion matrix\n",
        "plot_confusion_matrix(confusion_mtx, classes=range(2))\n",
        "plt.savefig(f'plottings\\\\effnet\\\\cnfmtx_{ID}.png')\n",
        "plt.show()"
      ]
    },
    {
      "cell_type": "code",
      "execution_count": null,
      "id": "convenient-indonesia",
      "metadata": {
        "id": "convenient-indonesia"
      },
      "outputs": [],
      "source": [
        "def unfreeze_model(model):\n",
        "    # We unfreeze the top 20 layers while leaving BatchNorm layers frozen\n",
        "    for layer in model.layers[-20:]:\n",
        "        if not isinstance(layer, layers.BatchNormalization):\n",
        "            layer.trainable = True\n",
        "\n",
        "    optimizer = tf.keras.optimizers.Adam(learning_rate=1e-4)\n",
        "    model.compile(\n",
        "        optimizer=optimizer, loss=\"categorical_crossentropy\", metrics=[\"accuracy\"]\n",
        "    )\n",
        "\n",
        "unfreeze_model(model)\n",
        "\n",
        "epochs = EPOCHS  # @param {type: \"slider\", min:8, max:50}\n",
        "history = model.fit(X_train, Y_train, batch_size=batch_size, epochs=epochs, validation_data=(X_val, Y_val), verbose=2,callbacks=[lr_sched])\n"
      ]
    },
    {
      "cell_type": "code",
      "execution_count": null,
      "id": "grand-creek",
      "metadata": {
        "id": "grand-creek"
      },
      "outputs": [],
      "source": [
        "#plotting\n",
        "def plot_confusion_matrix(cm, classes, normalize=False, title='Confusion matrix', cmap=plt.cm.Blues):\n",
        "    plt.imshow(cm, interpolation='nearest', cmap=cmap)\n",
        "    plt.title(title)\n",
        "    plt.colorbar()\n",
        "    tick_marks = np.arange(len(classes))\n",
        "    plt.xticks(tick_marks, classes, rotation=45)\n",
        "    plt.yticks(tick_marks, classes)\n",
        "\n",
        "    if normalize:\n",
        "        cm = cm.astype('float') / cm.sum(axis=1)[:, np.newaxis]\n",
        "\n",
        "    thresh = cm.max() / 2.\n",
        "    for i, j in itertools.product(range(cm.shape[0]), range(cm.shape[1])):\n",
        "        plt.text(j, i, cm[i, j], horizontalalignment=\"center\", color=\"white\" if cm[i, j] > thresh else \"black\")\n",
        "\n",
        "    plt.tight_layout()\n",
        "    plt.ylabel('True label')\n",
        "    plt.xlabel('Predicted label')\n",
        "\n",
        "#plt.subplot(2,1,1)\n",
        "plt.plot(history.history['accuracy'])\n",
        "plt.plot(history.history['val_accuracy'])\n",
        "plt.ylabel('accuracy')\n",
        "plt.xlabel('epoch')\n",
        "\n",
        "plt.savefig(f'plottings\\\\effnet\\\\ftacc_{ID}.png')\n",
        "plt.show()\n",
        "\n",
        "#plt.subplot(2,1,2)\n",
        "plt.plot(history.history['loss'])\n",
        "plt.plot(history.history['val_loss'])\n",
        "plt.ylabel('loss')\n",
        "plt.xlabel('epoch')\n",
        "plt.savefig(f'plottings\\\\effnet\\\\ftloss_{ID}.png')\n",
        "plt.show()\n",
        "\n",
        "Y_pred = model.predict(X_val)\n",
        "# Convert predictions classes to one hot vectors\n",
        "Y_pred_classes = np.argmax(Y_pred, axis=1)\n",
        "# Convert validation observations to one hot vectors\n",
        "Y_true = np.argmax(Y_val, axis=1)\n",
        "# compute the confusion matrix\n",
        "confusion_mtx = confusion_matrix(Y_true, Y_pred_classes)\n",
        "# plot the confusion matrix\n",
        "plot_confusion_matrix(confusion_mtx, classes=range(2))\n",
        "plt.savefig(f'plottings\\\\effnet\\\\ftcnfmtx_{ID}.png')\n",
        "plt.show()"
      ]
    },
    {
      "cell_type": "code",
      "execution_count": null,
      "id": "structured-indicator",
      "metadata": {
        "id": "structured-indicator"
      },
      "outputs": [],
      "source": [
        "#save model\n",
        "model_name = f'models\\\\effnet\\\\{ID}.h5'\n",
        "model.save(model_name)\n"
      ]
    },
    {
      "cell_type": "code",
      "execution_count": null,
      "id": "conscious-maple",
      "metadata": {
        "id": "conscious-maple"
      },
      "outputs": [],
      "source": [
        "train_acc, val_acc = np.mean(history.history['accuracy']), np.mean(history.history['val_accuracy'])\n",
        "print(train_acc, val_acc)"
      ]
    },
    {
      "cell_type": "code",
      "execution_count": null,
      "id": "informative-lexington",
      "metadata": {
        "id": "informative-lexington"
      },
      "outputs": [],
      "source": [
        "with open('currently-used-effnet.txt','w+') as f:\n",
        "    f.write(model_name)"
      ]
    },
    {
      "cell_type": "markdown",
      "id": "statistical-headquarters",
      "metadata": {
        "id": "statistical-headquarters"
      },
      "source": [
        "## Testing"
      ]
    },
    {
      "cell_type": "code",
      "execution_count": null,
      "id": "consistent-regular",
      "metadata": {
        "scrolled": true,
        "id": "consistent-regular"
      },
      "outputs": [],
      "source": [
        "from tensorflow.keras.models import load_model\n",
        "import tensorflow as tf\n",
        "#test_set = glob.glob('MICC-F220\\\\*')\n",
        "test_set = glob.glob('test_set\\\\*')\n",
        "classes = []\n",
        "for img in test_set:\n",
        "    #data will have the label `tamp` if the data is tampered\n",
        "    if 'tamp' in img and img[len(img)-4:len(img)] == '.jpg':\n",
        "        classes.append('forged')\n",
        "    elif 'tamp' not in img and img[len(img)-4:len(img)] == '.jpg':\n",
        "        classes.append('unforged')\n",
        "\n",
        "#for i in range(len(test_set)): print(test_set[i], classes[i])\n",
        "#def predict():\n",
        "#load model\n",
        "model = load_model(model_name)\n",
        "predictions = []\n",
        "#test image iteration\n",
        "for i in tf.range(len(test_set)): #use tf.range for faster execution (operation is done in tf.Tensor)\n",
        "    image = Image.open(test_set[i]).convert('RGB')\n",
        "    image = array(image.resize((100,100))).flatten() / 255.0\n",
        "    image = image.reshape(-1,100,100,3)\n",
        "    pred = model.predict(image)[0]\n",
        "    #take the index of the predicted class\n",
        "    index = np.argmax(pred)\n",
        "    verdict = \"forged\" if index == 1 else \"unforged\"\n",
        "    predictions.append(verdict)"
      ]
    },
    {
      "cell_type": "code",
      "execution_count": null,
      "id": "announced-yugoslavia",
      "metadata": {
        "id": "announced-yugoslavia"
      },
      "outputs": [],
      "source": [
        "correct = 0\n",
        "for i in range(len(classes)):\n",
        "    if classes[i] == predictions[i]:\n",
        "        correct += 1\n",
        "    else: continue\n",
        "acc = correct / len(classes)\n",
        "print(f'Test accuracy: {round(acc*100,3)}%')"
      ]
    },
    {
      "cell_type": "code",
      "execution_count": null,
      "id": "spanish-implement",
      "metadata": {
        "id": "spanish-implement"
      },
      "outputs": [],
      "source": [
        "with open(f'plottings\\\\effnet\\\\testacc_{ID}.txt','w+') as f:\n",
        "    f.write(f'train_acc: {train_acc}\\nval_acc: {val_acc}\\n')\n",
        "    f.write(f'test_acc: {acc}')"
      ]
    },
    {
      "cell_type": "code",
      "execution_count": null,
      "id": "frozen-rider",
      "metadata": {
        "id": "frozen-rider"
      },
      "outputs": [],
      "source": [
        "#for i in range(len(classes)): print(classes[i], predictions[i])\n",
        "correct = 0\n",
        "plt.figure(figsize=(10,9))\n",
        "plt.subplots_adjust(hspace=0.5)\n",
        "for i in range(len(classes)):\n",
        "    im = cv2.imread(test_set[i])\n",
        "    #im.resize((30,30))\n",
        "    #print(im.shape)\n",
        "    plt.subplot(len(classes)/5+1,5,i+1)\n",
        "    plt.imshow(im)\n",
        "    color = 'green' if classes[i] == predictions[i] else 'red'\n",
        "    if color == 'green': correct += 1\n",
        "    #plt.title(f'{classes[i]}\\n{predictions[i]}', color=color)\n",
        "    plt.text(im.shape[1]/2,0,f'{classes[i]}\\n', ha=\"center\", va=\"bottom\", size=\"medium\")\n",
        "    plt.text(im.shape[1]/2,0,f'\\n{predictions[i]}', ha=\"center\", va=\"bottom\", size=\"medium\",color=color)\n",
        "    plt.axis('off')\n",
        "\n",
        "plt.savefig(f'plottings\\\\vgg19\\\\test_{ID}.png')\n",
        "plt.show()\n"
      ]
    },
    {
      "cell_type": "code",
      "execution_count": null,
      "id": "seventh-catalyst",
      "metadata": {
        "id": "seventh-catalyst"
      },
      "outputs": [],
      "source": []
    },
    {
      "cell_type": "code",
      "execution_count": null,
      "id": "another-removal",
      "metadata": {
        "id": "another-removal"
      },
      "outputs": [],
      "source": []
    }
  ],
  "metadata": {
    "kernelspec": {
      "display_name": "project",
      "language": "python",
      "name": "project"
    },
    "language_info": {
      "codemirror_mode": {
        "name": "ipython",
        "version": 3
      },
      "file_extension": ".py",
      "mimetype": "text/x-python",
      "name": "python",
      "nbconvert_exporter": "python",
      "pygments_lexer": "ipython3",
      "version": "3.7.10"
    },
    "colab": {
      "provenance": []
    }
  },
  "nbformat": 4,
  "nbformat_minor": 5
}